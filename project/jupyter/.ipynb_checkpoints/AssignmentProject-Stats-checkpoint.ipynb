{
 "cells": [
  {
   "cell_type": "markdown",
   "metadata": {},
   "source": [
    "# II. Stats"
   ]
  },
  {
   "cell_type": "markdown",
   "metadata": {},
   "source": [
    "## Basic statistics"
   ]
  },
  {
   "cell_type": "code",
   "execution_count": 1,
   "metadata": {
    "collapsed": true
   },
   "outputs": [],
   "source": [
    "from __future__ import division\n",
    "from collections import Counter\n",
    "import math"
   ]
  },
  {
   "cell_type": "code",
   "execution_count": 2,
   "metadata": {
    "collapsed": false
   },
   "outputs": [],
   "source": [
    "import pandas as pd\n",
    "import numpy as np\n",
    "\n",
    "df = pd.read_csv('data/globalterrorism_cleaned.csv', encoding='utf-8')"
   ]
  },
  {
   "cell_type": "code",
   "execution_count": 3,
   "metadata": {
    "collapsed": false
   },
   "outputs": [
    {
     "data": {
      "text/plain": [
       "(152252, 24)"
      ]
     },
     "execution_count": 3,
     "metadata": {},
     "output_type": "execute_result"
    }
   ],
   "source": [
    "df.shape"
   ]
  },
  {
   "cell_type": "code",
   "execution_count": 23,
   "metadata": {
    "collapsed": false
   },
   "outputs": [
    {
     "data": {
      "text/plain": [
       "Index([u'year', u'extended', u'country', u'region', u'state', u'city', u'lat',\n",
       "       u'lon', u'multiple', u'success', u'suicide', u'attacktype',\n",
       "       u'targettype', u'gname', u'nter', u'claimed', u'weapontype', u'nkilled',\n",
       "       u'nkilledter', u'nwounded', u'nwoundedter', u'property',\n",
       "       u'propertyextent', u'countrycode'],\n",
       "      dtype='object')"
      ]
     },
     "execution_count": 23,
     "metadata": {},
     "output_type": "execute_result"
    }
   ],
   "source": [
    "df.columns"
   ]
  },
  {
   "cell_type": "code",
   "execution_count": 38,
   "metadata": {
    "collapsed": false,
    "scrolled": true
   },
   "outputs": [
    {
     "data": {
      "text/html": [
       "<div>\n",
       "<table border=\"1\" class=\"dataframe\">\n",
       "  <thead>\n",
       "    <tr style=\"text-align: right;\">\n",
       "      <th></th>\n",
       "      <th>year</th>\n",
       "      <th>extended</th>\n",
       "      <th>multiple</th>\n",
       "      <th>success</th>\n",
       "      <th>suicide</th>\n",
       "      <th>nter</th>\n",
       "      <th>claimed</th>\n",
       "      <th>nkilled</th>\n",
       "      <th>nkilledter</th>\n",
       "      <th>nwounded</th>\n",
       "      <th>nwoundedter</th>\n",
       "      <th>property</th>\n",
       "    </tr>\n",
       "  </thead>\n",
       "  <tbody>\n",
       "    <tr>\n",
       "      <th>min</th>\n",
       "      <td>1970</td>\n",
       "      <td>0</td>\n",
       "      <td>0</td>\n",
       "      <td>0</td>\n",
       "      <td>0</td>\n",
       "      <td>0</td>\n",
       "      <td>0</td>\n",
       "      <td>0</td>\n",
       "      <td>0</td>\n",
       "      <td>0</td>\n",
       "      <td>0</td>\n",
       "      <td>-9</td>\n",
       "    </tr>\n",
       "    <tr>\n",
       "      <th>max</th>\n",
       "      <td>2015</td>\n",
       "      <td>1</td>\n",
       "      <td>1</td>\n",
       "      <td>1</td>\n",
       "      <td>1</td>\n",
       "      <td>25000</td>\n",
       "      <td>2</td>\n",
       "      <td>1500</td>\n",
       "      <td>500</td>\n",
       "      <td>5500</td>\n",
       "      <td>200</td>\n",
       "      <td>1</td>\n",
       "    </tr>\n",
       "    <tr>\n",
       "      <th>nans</th>\n",
       "      <td>0.0%</td>\n",
       "      <td>0.0%</td>\n",
       "      <td>0.0%</td>\n",
       "      <td>0.0%</td>\n",
       "      <td>0.0%</td>\n",
       "      <td>0.0%</td>\n",
       "      <td>0.0%</td>\n",
       "      <td>0.0%</td>\n",
       "      <td>0.0%</td>\n",
       "      <td>0.0%</td>\n",
       "      <td>0.0%</td>\n",
       "      <td>11.12%</td>\n",
       "    </tr>\n",
       "  </tbody>\n",
       "</table>\n",
       "</div>"
      ],
      "text/plain": [
       "      year extended multiple success suicide   nter claimed nkilled  \\\n",
       "min   1970        0        0       0       0      0       0       0   \n",
       "max   2015        1        1       1       1  25000       2    1500   \n",
       "nans  0.0%     0.0%     0.0%    0.0%    0.0%   0.0%    0.0%    0.0%   \n",
       "\n",
       "     nkilledter nwounded nwoundedter property  \n",
       "min           0        0           0       -9  \n",
       "max         500     5500         200        1  \n",
       "nans       0.0%     0.0%        0.0%   11.12%  "
      ]
     },
     "execution_count": 38,
     "metadata": {},
     "output_type": "execute_result"
    }
   ],
   "source": [
    "num_df = df.select_dtypes(include=[int])\n",
    "num_desc_df = np.round(num_df.describe(), decimals=0).astype(int).iloc[[3,7]]\n",
    "nans = np.round(num_df[num_df == -9].count()/len(num_df)*100, decimals=2).astype(str)+'%'\n",
    "nans.name = 'nans'\n",
    "num_desc_df.append(nans)"
   ]
  },
  {
   "cell_type": "code",
   "execution_count": 39,
   "metadata": {
    "collapsed": false
   },
   "outputs": [
    {
     "data": {
      "text/html": [
       "<div>\n",
       "<table border=\"1\" class=\"dataframe\">\n",
       "  <thead>\n",
       "    <tr style=\"text-align: right;\">\n",
       "      <th></th>\n",
       "      <th>lat</th>\n",
       "      <th>lon</th>\n",
       "    </tr>\n",
       "  </thead>\n",
       "  <tbody>\n",
       "    <tr>\n",
       "      <th>min</th>\n",
       "      <td>-53.1546</td>\n",
       "      <td>-176.176</td>\n",
       "    </tr>\n",
       "    <tr>\n",
       "      <th>max</th>\n",
       "      <td>74.6336</td>\n",
       "      <td>179.367</td>\n",
       "    </tr>\n",
       "    <tr>\n",
       "      <th>nans</th>\n",
       "      <td>0.0%</td>\n",
       "      <td>0.0%</td>\n",
       "    </tr>\n",
       "  </tbody>\n",
       "</table>\n",
       "</div>"
      ],
      "text/plain": [
       "          lat      lon\n",
       "min  -53.1546 -176.176\n",
       "max   74.6336  179.367\n",
       "nans     0.0%     0.0%"
      ]
     },
     "execution_count": 39,
     "metadata": {},
     "output_type": "execute_result"
    }
   ],
   "source": [
    "num_df = df.select_dtypes(include=[float])\n",
    "num_desc_df = num_df.describe().iloc[[3,7]]\n",
    "nans = np.round(num_df[num_df == -9].count()/len(num_df)*100, decimals=2).astype(str)+'%'\n",
    "nans.name = 'nans'\n",
    "num_desc_df.append(nans)"
   ]
  },
  {
   "cell_type": "code",
   "execution_count": 5,
   "metadata": {
    "collapsed": false,
    "scrolled": true
   },
   "outputs": [
    {
     "data": {
      "text/html": [
       "<div>\n",
       "<table border=\"1\" class=\"dataframe\">\n",
       "  <thead>\n",
       "    <tr style=\"text-align: right;\">\n",
       "      <th></th>\n",
       "      <th>propertyextent</th>\n",
       "      <th>targettype</th>\n",
       "      <th>countrycode</th>\n",
       "      <th>city</th>\n",
       "      <th>country</th>\n",
       "      <th>region</th>\n",
       "      <th>weapontype</th>\n",
       "      <th>state</th>\n",
       "      <th>attacktype</th>\n",
       "      <th>gname</th>\n",
       "    </tr>\n",
       "  </thead>\n",
       "  <tbody>\n",
       "    <tr>\n",
       "      <th>unique</th>\n",
       "      <td>4</td>\n",
       "      <td>22</td>\n",
       "      <td>191</td>\n",
       "      <td>29579</td>\n",
       "      <td>204</td>\n",
       "      <td>12</td>\n",
       "      <td>12</td>\n",
       "      <td>2487</td>\n",
       "      <td>9</td>\n",
       "      <td>3216</td>\n",
       "    </tr>\n",
       "    <tr>\n",
       "      <th>top</th>\n",
       "      <td>Unknown</td>\n",
       "      <td>Private Citizens &amp; Property</td>\n",
       "      <td>IRQ</td>\n",
       "      <td>Unknown</td>\n",
       "      <td>Iraq</td>\n",
       "      <td>Middle East &amp; North Africa</td>\n",
       "      <td>Explosives/Bombs/Dynamite</td>\n",
       "      <td>Unknown</td>\n",
       "      <td>Bombing/Explosion</td>\n",
       "      <td>Unknown</td>\n",
       "    </tr>\n",
       "    <tr>\n",
       "      <th>nans</th>\n",
       "      <td>75.27%</td>\n",
       "      <td>2.46%</td>\n",
       "      <td>0.0%</td>\n",
       "      <td>4.69%</td>\n",
       "      <td>0.0%</td>\n",
       "      <td>0.0%</td>\n",
       "      <td>7.59%</td>\n",
       "      <td>8.68%</td>\n",
       "      <td>3.38%</td>\n",
       "      <td>46.41%</td>\n",
       "    </tr>\n",
       "  </tbody>\n",
       "</table>\n",
       "</div>"
      ],
      "text/plain": [
       "       propertyextent                   targettype countrycode     city  \\\n",
       "unique              4                           22         191    29579   \n",
       "top           Unknown  Private Citizens & Property         IRQ  Unknown   \n",
       "nans           75.27%                        2.46%        0.0%    4.69%   \n",
       "\n",
       "       country                      region                 weapontype  \\\n",
       "unique     204                          12                         12   \n",
       "top       Iraq  Middle East & North Africa  Explosives/Bombs/Dynamite   \n",
       "nans      0.0%                        0.0%                      7.59%   \n",
       "\n",
       "          state         attacktype    gname  \n",
       "unique     2487                  9     3216  \n",
       "top     Unknown  Bombing/Explosion  Unknown  \n",
       "nans      8.68%              3.38%   46.41%  "
      ]
     },
     "execution_count": 5,
     "metadata": {},
     "output_type": "execute_result"
    }
   ],
   "source": [
    "str_df = df.select_dtypes(exclude=[float, int])\n",
    "str_cols = list(set(str_df.columns.tolist()))\n",
    "str_df = str_df[str_cols]\n",
    "str_desc_df = str_df.describe().iloc[1:3,:]\n",
    "nans = np.round(str_df[str_df == 'Unknown'].count()/len(str_df)*100, decimals=2).astype(str)+'%'\n",
    "nans.name = 'nans'\n",
    "str_desc_df.append(nans)"
   ]
  },
  {
   "cell_type": "markdown",
   "metadata": {},
   "source": [
    "## Categorial data"
   ]
  },
  {
   "cell_type": "code",
   "execution_count": 6,
   "metadata": {
    "collapsed": false,
    "scrolled": true
   },
   "outputs": [
    {
     "data": {
      "text/html": [
       "<script>requirejs.config({paths: { 'plotly': ['https://cdn.plot.ly/plotly-latest.min']},});if(!window.Plotly) {{require(['plotly'],function(plotly) {window.Plotly=plotly;});}}</script>"
      ],
      "text/vnd.plotly.v1+html": [
       "<script>requirejs.config({paths: { 'plotly': ['https://cdn.plot.ly/plotly-latest.min']},});if(!window.Plotly) {{require(['plotly'],function(plotly) {window.Plotly=plotly;});}}</script>"
      ]
     },
     "metadata": {},
     "output_type": "display_data"
    },
    {
     "name": "stdout",
     "output_type": "stream",
     "text": [
      "2.0.7\n"
     ]
    }
   ],
   "source": [
    "from plotly import __version__\n",
    "from plotly.offline import download_plotlyjs, init_notebook_mode, plot, iplot\n",
    "import plotly as py\n",
    "import plotly.graph_objs as go\n",
    "from plotly import tools\n",
    "import colorlover as cl\n",
    "\n",
    "init_notebook_mode(connected=True)\n",
    "print __version__ # requires version >= 1.9.0"
   ]
  },
  {
   "cell_type": "code",
   "execution_count": 7,
   "metadata": {
    "collapsed": true
   },
   "outputs": [],
   "source": [
    "# Setup colors\n",
    "bgcolor = 'white'\n",
    "gridcolor = 'lightgrey'\n",
    "fontcolor = 'black'\n",
    "\n",
    "def clamp(x): \n",
    "    return max(0, min(x, 255))\n",
    "colors = ['#%02x%02x%02x' % (clamp(rgb[0]), clamp(rgb[1]), clamp(rgb[2])) for rgb in cl.to_numeric(cl.scales['12']['qual']['Set3'])]\n",
    "\n",
    "# Setup fonts\n",
    "titlesize = 16\n",
    "labelsize = 14\n",
    "defaultsize = 12\n",
    "smallsize = 10"
   ]
  },
  {
   "cell_type": "markdown",
   "metadata": {},
   "source": [
    "### Distribution of binary attributes"
   ]
  },
  {
   "cell_type": "code",
   "execution_count": 8,
   "metadata": {
    "collapsed": true
   },
   "outputs": [],
   "source": [
    "def barplot(x, y, t, xl, yl, margin=dict()):\n",
    "    data = [\n",
    "        go.Bar(\n",
    "            x=x, \n",
    "            y=y, \n",
    "            marker=dict(\n",
    "                 color=colors[9]\n",
    "            )\n",
    "        )\n",
    "    ]\n",
    "    layout = go.Layout(\n",
    "        showlegend=False,\n",
    "        bargap=0,\n",
    "        title=t,\n",
    "        titlefont=dict(\n",
    "            size=titlesize\n",
    "        ),\n",
    "        xaxis=dict(\n",
    "            title=xl,\n",
    "            titlefont=dict(\n",
    "                size=labelsize\n",
    "            ),\n",
    "            zeroline=False,\n",
    "            showgrid=False,\n",
    "            autotick=True,\n",
    "            tickcolor=bgcolor\n",
    "            ),\n",
    "        yaxis=dict(\n",
    "            title=yl,\n",
    "            titlefont=dict(\n",
    "                size=labelsize\n",
    "            ),\n",
    "            zeroline=False,\n",
    "            gridcolor=gridcolor,\n",
    "            autotick=True,\n",
    "            tickcolor=bgcolor\n",
    "        ),\n",
    "        plot_bgcolor=bgcolor,\n",
    "        paper_bgcolor=bgcolor,\n",
    "        font=dict(\n",
    "            color=fontcolor,\n",
    "            size=defaultsize\n",
    "        ),\n",
    "        margin=margin\n",
    "    )\n",
    "    fig = go.Figure(data=data, layout=layout)\n",
    "    iplot(fig)"
   ]
  },
  {
   "cell_type": "code",
   "execution_count": 9,
   "metadata": {
    "collapsed": false,
    "scrolled": false
   },
   "outputs": [
    {
     "data": {
      "application/vnd.plotly.v1+json": {
       "data": [
        {
         "marker": {
          "color": "#bc80bd"
         },
         "type": "bar",
         "x": [
          "Success",
          "Property damaged",
          "Multiple incidents",
          "Responsibility claimed",
          "Extended",
          "Suicide"
         ],
         "y": [
          0.9020702519507133,
          0.5433097758978536,
          0.13061897380658383,
          0.0859430417991225,
          0.04062344008617293,
          0.031191708483303996
         ]
        }
       ],
       "layout": {
        "bargap": 0,
        "font": {
         "color": "black",
         "size": 12
        },
        "margin": {},
        "paper_bgcolor": "white",
        "plot_bgcolor": "white",
        "showlegend": false,
        "title": "Distribution of Various Attributes",
        "titlefont": {
         "size": 16
        },
        "xaxis": {
         "autotick": true,
         "showgrid": false,
         "tickcolor": "white",
         "title": "Attribute",
         "titlefont": {
          "size": 14
         },
         "zeroline": false
        },
        "yaxis": {
         "autotick": true,
         "gridcolor": "lightgrey",
         "tickcolor": "white",
         "title": "Frequency",
         "titlefont": {
          "size": 14
         },
         "zeroline": false
        }
       }
      },
      "text/html": [
       "<div id=\"b851b464-7301-4a9e-8d44-e444f1d06df0\" style=\"height: 525px; width: 100%;\" class=\"plotly-graph-div\"></div><script type=\"text/javascript\">require([\"plotly\"], function(Plotly) { window.PLOTLYENV=window.PLOTLYENV || {};window.PLOTLYENV.BASE_URL=\"https://plot.ly\";Plotly.newPlot(\"b851b464-7301-4a9e-8d44-e444f1d06df0\", [{\"marker\": {\"color\": \"#bc80bd\"}, \"y\": [0.9020702519507133, 0.5433097758978536, 0.13061897380658383, 0.0859430417991225, 0.04062344008617293, 0.031191708483303996], \"type\": \"bar\", \"x\": [\"Success\", \"Property damaged\", \"Multiple incidents\", \"Responsibility claimed\", \"Extended\", \"Suicide\"]}], {\"showlegend\": false, \"yaxis\": {\"title\": \"Frequency\", \"titlefont\": {\"size\": 14}, \"gridcolor\": \"lightgrey\", \"zeroline\": false, \"tickcolor\": \"white\", \"autotick\": true}, \"paper_bgcolor\": \"white\", \"plot_bgcolor\": \"white\", \"title\": \"Distribution of Various Attributes\", \"bargap\": 0, \"titlefont\": {\"size\": 16}, \"xaxis\": {\"title\": \"Attribute\", \"showgrid\": false, \"titlefont\": {\"size\": 14}, \"zeroline\": false, \"tickcolor\": \"white\", \"autotick\": true}, \"font\": {\"color\": \"black\", \"size\": 12}, \"margin\": {}}, {\"linkText\": \"Export to plot.ly\", \"showLink\": true})});</script>"
      ],
      "text/vnd.plotly.v1+html": [
       "<div id=\"b851b464-7301-4a9e-8d44-e444f1d06df0\" style=\"height: 525px; width: 100%;\" class=\"plotly-graph-div\"></div><script type=\"text/javascript\">require([\"plotly\"], function(Plotly) { window.PLOTLYENV=window.PLOTLYENV || {};window.PLOTLYENV.BASE_URL=\"https://plot.ly\";Plotly.newPlot(\"b851b464-7301-4a9e-8d44-e444f1d06df0\", [{\"marker\": {\"color\": \"#bc80bd\"}, \"y\": [0.9020702519507133, 0.5433097758978536, 0.13061897380658383, 0.0859430417991225, 0.04062344008617293, 0.031191708483303996], \"type\": \"bar\", \"x\": [\"Success\", \"Property damaged\", \"Multiple incidents\", \"Responsibility claimed\", \"Extended\", \"Suicide\"]}], {\"showlegend\": false, \"yaxis\": {\"title\": \"Frequency\", \"titlefont\": {\"size\": 14}, \"gridcolor\": \"lightgrey\", \"zeroline\": false, \"tickcolor\": \"white\", \"autotick\": true}, \"paper_bgcolor\": \"white\", \"plot_bgcolor\": \"white\", \"title\": \"Distribution of Various Attributes\", \"bargap\": 0, \"titlefont\": {\"size\": 16}, \"xaxis\": {\"title\": \"Attribute\", \"showgrid\": false, \"titlefont\": {\"size\": 14}, \"zeroline\": false, \"tickcolor\": \"white\", \"autotick\": true}, \"font\": {\"color\": \"black\", \"size\": 12}, \"margin\": {}}, {\"linkText\": \"Export to plot.ly\", \"showLink\": true})});</script>"
      ]
     },
     "metadata": {},
     "output_type": "display_data"
    }
   ],
   "source": [
    "count_pos = lambda col: Counter(df[col].map(lambda x: str(x == True)).values.tolist())['True']/len(df.index)\n",
    "options = {\n",
    "    'Extended': count_pos('extended'),\n",
    "    'Success': count_pos('success'),\n",
    "    'Multiple incidents': count_pos('multiple'),\n",
    "    'Suicide': count_pos('suicide'),\n",
    "    'Responsibility claimed': count_pos('claimed'),\n",
    "    'Property damaged': count_pos('property')\n",
    "}\n",
    "x, y = zip(*sorted(options.items(), key=lambda x: x[1], reverse=True))\n",
    "\n",
    "barplot(x, y, 'Distribution of Various Attributes', 'Attribute', 'Frequency')"
   ]
  },
  {
   "cell_type": "markdown",
   "metadata": {},
   "source": [
    "We re able to discover additional attributes of terror attacks, like success. For example, a bomb that exploded in a building would be counted as a success even if it did not succeed in killing or injuring targets. We see nearly 90% of attacks succeeded. Also, the most attacks resulted in a property damage. Nearly 13% of attacks were part of a multiple incident, while only nearly 4% lasted more than 24h. In 8% of cases the underlying terror group claimed the responsibility. To our great surprise, a suicide attack took place only in 3% of cases - no need to fear Kamikaze nowadays."
   ]
  },
  {
   "cell_type": "markdown",
   "metadata": {},
   "source": [
    "### Terrorist Attacks per Year"
   ]
  },
  {
   "cell_type": "code",
   "execution_count": 10,
   "metadata": {
    "collapsed": false
   },
   "outputs": [
    {
     "data": {
      "application/vnd.plotly.v1+json": {
       "data": [
        {
         "marker": {
          "color": "#bc80bd"
         },
         "type": "bar",
         "x": [
          1970,
          1971,
          1972,
          1973,
          1974,
          1975,
          1976,
          1977,
          1978,
          1979,
          1980,
          1981,
          1982,
          1983,
          1984,
          1985,
          1986,
          1987,
          1988,
          1989,
          1990,
          1991,
          1992,
          1994,
          1995,
          1996,
          1997,
          1998,
          1999,
          2000,
          2001,
          2002,
          2003,
          2004,
          2005,
          2006,
          2007,
          2008,
          2009,
          2010,
          2011,
          2012,
          2013,
          2014,
          2015
         ],
         "y": [
          643,
          461,
          490,
          465,
          576,
          727,
          900,
          1292,
          1455,
          2529,
          2555,
          2456,
          2404,
          2661,
          3188,
          2672,
          2676,
          2980,
          3467,
          4140,
          3645,
          4399,
          4827,
          3289,
          2919,
          2904,
          2992,
          890,
          1342,
          1771,
          1884,
          1310,
          1247,
          1132,
          1979,
          2709,
          3190,
          4737,
          4706,
          4814,
          5040,
          8448,
          11892,
          16737,
          14712
         ]
        }
       ],
       "layout": {
        "bargap": 0,
        "font": {
         "color": "black",
         "size": 12
        },
        "margin": {},
        "paper_bgcolor": "white",
        "plot_bgcolor": "white",
        "showlegend": false,
        "title": "Terrorist Attacks per Year",
        "titlefont": {
         "size": 16
        },
        "xaxis": {
         "autotick": true,
         "showgrid": false,
         "tickcolor": "white",
         "title": "Year",
         "titlefont": {
          "size": 14
         },
         "zeroline": false
        },
        "yaxis": {
         "autotick": true,
         "gridcolor": "lightgrey",
         "tickcolor": "white",
         "title": "Count",
         "titlefont": {
          "size": 14
         },
         "zeroline": false
        }
       }
      },
      "text/html": [
       "<div id=\"15e728c4-fc1b-46cb-a0a2-88fb1822eccf\" style=\"height: 525px; width: 100%;\" class=\"plotly-graph-div\"></div><script type=\"text/javascript\">require([\"plotly\"], function(Plotly) { window.PLOTLYENV=window.PLOTLYENV || {};window.PLOTLYENV.BASE_URL=\"https://plot.ly\";Plotly.newPlot(\"15e728c4-fc1b-46cb-a0a2-88fb1822eccf\", [{\"marker\": {\"color\": \"#bc80bd\"}, \"y\": [643, 461, 490, 465, 576, 727, 900, 1292, 1455, 2529, 2555, 2456, 2404, 2661, 3188, 2672, 2676, 2980, 3467, 4140, 3645, 4399, 4827, 3289, 2919, 2904, 2992, 890, 1342, 1771, 1884, 1310, 1247, 1132, 1979, 2709, 3190, 4737, 4706, 4814, 5040, 8448, 11892, 16737, 14712], \"type\": \"bar\", \"x\": [1970, 1971, 1972, 1973, 1974, 1975, 1976, 1977, 1978, 1979, 1980, 1981, 1982, 1983, 1984, 1985, 1986, 1987, 1988, 1989, 1990, 1991, 1992, 1994, 1995, 1996, 1997, 1998, 1999, 2000, 2001, 2002, 2003, 2004, 2005, 2006, 2007, 2008, 2009, 2010, 2011, 2012, 2013, 2014, 2015]}], {\"showlegend\": false, \"yaxis\": {\"title\": \"Count\", \"titlefont\": {\"size\": 14}, \"gridcolor\": \"lightgrey\", \"zeroline\": false, \"tickcolor\": \"white\", \"autotick\": true}, \"paper_bgcolor\": \"white\", \"plot_bgcolor\": \"white\", \"title\": \"Terrorist Attacks per Year\", \"bargap\": 0, \"titlefont\": {\"size\": 16}, \"xaxis\": {\"title\": \"Year\", \"showgrid\": false, \"titlefont\": {\"size\": 14}, \"zeroline\": false, \"tickcolor\": \"white\", \"autotick\": true}, \"font\": {\"color\": \"black\", \"size\": 12}, \"margin\": {}}, {\"linkText\": \"Export to plot.ly\", \"showLink\": true})});</script>"
      ],
      "text/vnd.plotly.v1+html": [
       "<div id=\"15e728c4-fc1b-46cb-a0a2-88fb1822eccf\" style=\"height: 525px; width: 100%;\" class=\"plotly-graph-div\"></div><script type=\"text/javascript\">require([\"plotly\"], function(Plotly) { window.PLOTLYENV=window.PLOTLYENV || {};window.PLOTLYENV.BASE_URL=\"https://plot.ly\";Plotly.newPlot(\"15e728c4-fc1b-46cb-a0a2-88fb1822eccf\", [{\"marker\": {\"color\": \"#bc80bd\"}, \"y\": [643, 461, 490, 465, 576, 727, 900, 1292, 1455, 2529, 2555, 2456, 2404, 2661, 3188, 2672, 2676, 2980, 3467, 4140, 3645, 4399, 4827, 3289, 2919, 2904, 2992, 890, 1342, 1771, 1884, 1310, 1247, 1132, 1979, 2709, 3190, 4737, 4706, 4814, 5040, 8448, 11892, 16737, 14712], \"type\": \"bar\", \"x\": [1970, 1971, 1972, 1973, 1974, 1975, 1976, 1977, 1978, 1979, 1980, 1981, 1982, 1983, 1984, 1985, 1986, 1987, 1988, 1989, 1990, 1991, 1992, 1994, 1995, 1996, 1997, 1998, 1999, 2000, 2001, 2002, 2003, 2004, 2005, 2006, 2007, 2008, 2009, 2010, 2011, 2012, 2013, 2014, 2015]}], {\"showlegend\": false, \"yaxis\": {\"title\": \"Count\", \"titlefont\": {\"size\": 14}, \"gridcolor\": \"lightgrey\", \"zeroline\": false, \"tickcolor\": \"white\", \"autotick\": true}, \"paper_bgcolor\": \"white\", \"plot_bgcolor\": \"white\", \"title\": \"Terrorist Attacks per Year\", \"bargap\": 0, \"titlefont\": {\"size\": 16}, \"xaxis\": {\"title\": \"Year\", \"showgrid\": false, \"titlefont\": {\"size\": 14}, \"zeroline\": false, \"tickcolor\": \"white\", \"autotick\": true}, \"font\": {\"color\": \"black\", \"size\": 12}, \"margin\": {}}, {\"linkText\": \"Export to plot.ly\", \"showLink\": true})});</script>"
      ]
     },
     "metadata": {},
     "output_type": "display_data"
    }
   ],
   "source": [
    "x, y = zip(*df.groupby('year').size().reset_index(name='size').values.tolist())\n",
    "\n",
    "barplot(x, y, 'Terrorist Attacks per Year', 'Year', 'Count')"
   ]
  },
  {
   "cell_type": "markdown",
   "metadata": {},
   "source": [
    "We see a continual development of terrorism right up to year 2014, which may support the fear of global insecurity and play into the hands of populists of all kinds. But before making some conclusions, let us take a look at the geographic distribution of terrorism."
   ]
  },
  {
   "cell_type": "markdown",
   "metadata": {},
   "source": [
    "### Terrorist Attacks per Region"
   ]
  },
  {
   "cell_type": "code",
   "execution_count": 11,
   "metadata": {
    "collapsed": false,
    "scrolled": false
   },
   "outputs": [
    {
     "data": {
      "application/vnd.plotly.v1+json": {
       "data": [
        {
         "marker": {
          "color": "#bc80bd"
         },
         "type": "bar",
         "x": [
          "Middle East & North Africa",
          "South Asia",
          "South America",
          "Western Europe",
          "Sub-Saharan Africa",
          "Southeast Asia",
          "Central America & Caribbean",
          "Eastern Europe",
          "North America",
          "East Asia",
          "Central Asia",
          "Australasia & Oceania"
         ],
         "y": [
          39573,
          37367,
          17784,
          15862,
          12931,
          9808,
          9257,
          4866,
          3260,
          777,
          524,
          243
         ]
        }
       ],
       "layout": {
        "bargap": 0,
        "font": {
         "color": "black",
         "size": 12
        },
        "margin": {
         "b": 150
        },
        "paper_bgcolor": "white",
        "plot_bgcolor": "white",
        "showlegend": false,
        "title": "Terrorist Attacks per Region",
        "titlefont": {
         "size": 16
        },
        "xaxis": {
         "autotick": true,
         "showgrid": false,
         "tickcolor": "white",
         "title": "Region",
         "titlefont": {
          "size": 14
         },
         "zeroline": false
        },
        "yaxis": {
         "autotick": true,
         "gridcolor": "lightgrey",
         "tickcolor": "white",
         "title": "Count",
         "titlefont": {
          "size": 14
         },
         "zeroline": false
        }
       }
      },
      "text/html": [
       "<div id=\"187ef1cf-2132-400a-89f4-7a1fe861f003\" style=\"height: 525px; width: 100%;\" class=\"plotly-graph-div\"></div><script type=\"text/javascript\">require([\"plotly\"], function(Plotly) { window.PLOTLYENV=window.PLOTLYENV || {};window.PLOTLYENV.BASE_URL=\"https://plot.ly\";Plotly.newPlot(\"187ef1cf-2132-400a-89f4-7a1fe861f003\", [{\"marker\": {\"color\": \"#bc80bd\"}, \"y\": [39573, 37367, 17784, 15862, 12931, 9808, 9257, 4866, 3260, 777, 524, 243], \"type\": \"bar\", \"x\": [\"Middle East & North Africa\", \"South Asia\", \"South America\", \"Western Europe\", \"Sub-Saharan Africa\", \"Southeast Asia\", \"Central America & Caribbean\", \"Eastern Europe\", \"North America\", \"East Asia\", \"Central Asia\", \"Australasia & Oceania\"]}], {\"showlegend\": false, \"yaxis\": {\"title\": \"Count\", \"titlefont\": {\"size\": 14}, \"gridcolor\": \"lightgrey\", \"zeroline\": false, \"tickcolor\": \"white\", \"autotick\": true}, \"paper_bgcolor\": \"white\", \"plot_bgcolor\": \"white\", \"title\": \"Terrorist Attacks per Region\", \"bargap\": 0, \"titlefont\": {\"size\": 16}, \"xaxis\": {\"title\": \"Region\", \"showgrid\": false, \"titlefont\": {\"size\": 14}, \"zeroline\": false, \"tickcolor\": \"white\", \"autotick\": true}, \"font\": {\"color\": \"black\", \"size\": 12}, \"margin\": {\"b\": 150}}, {\"linkText\": \"Export to plot.ly\", \"showLink\": true})});</script>"
      ],
      "text/vnd.plotly.v1+html": [
       "<div id=\"187ef1cf-2132-400a-89f4-7a1fe861f003\" style=\"height: 525px; width: 100%;\" class=\"plotly-graph-div\"></div><script type=\"text/javascript\">require([\"plotly\"], function(Plotly) { window.PLOTLYENV=window.PLOTLYENV || {};window.PLOTLYENV.BASE_URL=\"https://plot.ly\";Plotly.newPlot(\"187ef1cf-2132-400a-89f4-7a1fe861f003\", [{\"marker\": {\"color\": \"#bc80bd\"}, \"y\": [39573, 37367, 17784, 15862, 12931, 9808, 9257, 4866, 3260, 777, 524, 243], \"type\": \"bar\", \"x\": [\"Middle East & North Africa\", \"South Asia\", \"South America\", \"Western Europe\", \"Sub-Saharan Africa\", \"Southeast Asia\", \"Central America & Caribbean\", \"Eastern Europe\", \"North America\", \"East Asia\", \"Central Asia\", \"Australasia & Oceania\"]}], {\"showlegend\": false, \"yaxis\": {\"title\": \"Count\", \"titlefont\": {\"size\": 14}, \"gridcolor\": \"lightgrey\", \"zeroline\": false, \"tickcolor\": \"white\", \"autotick\": true}, \"paper_bgcolor\": \"white\", \"plot_bgcolor\": \"white\", \"title\": \"Terrorist Attacks per Region\", \"bargap\": 0, \"titlefont\": {\"size\": 16}, \"xaxis\": {\"title\": \"Region\", \"showgrid\": false, \"titlefont\": {\"size\": 14}, \"zeroline\": false, \"tickcolor\": \"white\", \"autotick\": true}, \"font\": {\"color\": \"black\", \"size\": 12}, \"margin\": {\"b\": 150}}, {\"linkText\": \"Export to plot.ly\", \"showLink\": true})});</script>"
      ]
     },
     "metadata": {},
     "output_type": "display_data"
    }
   ],
   "source": [
    "x, y = zip(*sorted(df.groupby('region').size().reset_index(name='size').values.tolist(), key=lambda x: x[1], reverse=True))\n",
    "\n",
    "barplot(x, y, 'Terrorist Attacks per Region', 'Region', 'Count', dict(b=150))"
   ]
  },
  {
   "cell_type": "markdown",
   "metadata": {},
   "source": [
    "Middle East, North Africa and South Asia all count for more than a half of all terrorist attacks worldwide. After South America, Europe takes only the fourth place of regions most targeted by terrorists, while North America only the ninth. Both regions share only 12% of attacks around the globe. "
   ]
  },
  {
   "cell_type": "markdown",
   "metadata": {},
   "source": [
    "### Top 10 Terrorist Groups"
   ]
  },
  {
   "cell_type": "code",
   "execution_count": 12,
   "metadata": {
    "collapsed": false
   },
   "outputs": [
    {
     "data": {
      "application/vnd.plotly.v1+json": {
       "data": [
        {
         "marker": {
          "color": "#bc80bd"
         },
         "type": "bar",
         "x": [
          "Taliban",
          "Shining Path (SL)",
          "Farabundo Marti National Liberation Front (FMLN)",
          "Islamic State of Iraq and the Levant (ISIL)",
          "Irish Republican Army (IRA)",
          "Revolutionary Armed Forces of Colombia (FARC)",
          "Al-Shabaab",
          "Basque Fatherland and Freedom (ETA)",
          "New People's Army (NPA)",
          "Boko Haram"
         ],
         "y": [
          5486,
          4300,
          2952,
          2815,
          2661,
          2319,
          2116,
          1993,
          1972,
          1830
         ]
        }
       ],
       "layout": {
        "bargap": 0,
        "font": {
         "color": "black",
         "size": 12
        },
        "margin": {
         "b": 200
        },
        "paper_bgcolor": "white",
        "plot_bgcolor": "white",
        "showlegend": false,
        "title": "Top 10 Terorrist Groups",
        "titlefont": {
         "size": 16
        },
        "xaxis": {
         "autotick": true,
         "showgrid": false,
         "tickcolor": "white",
         "title": "Terorirst Group",
         "titlefont": {
          "size": 14
         },
         "zeroline": false
        },
        "yaxis": {
         "autotick": true,
         "gridcolor": "lightgrey",
         "tickcolor": "white",
         "title": "Count",
         "titlefont": {
          "size": 14
         },
         "zeroline": false
        }
       }
      },
      "text/html": [
       "<div id=\"c6c1cccd-0bc7-4173-824a-67c54408a38a\" style=\"height: 525px; width: 100%;\" class=\"plotly-graph-div\"></div><script type=\"text/javascript\">require([\"plotly\"], function(Plotly) { window.PLOTLYENV=window.PLOTLYENV || {};window.PLOTLYENV.BASE_URL=\"https://plot.ly\";Plotly.newPlot(\"c6c1cccd-0bc7-4173-824a-67c54408a38a\", [{\"marker\": {\"color\": \"#bc80bd\"}, \"y\": [5486, 4300, 2952, 2815, 2661, 2319, 2116, 1993, 1972, 1830], \"type\": \"bar\", \"x\": [\"Taliban\", \"Shining Path (SL)\", \"Farabundo Marti National Liberation Front (FMLN)\", \"Islamic State of Iraq and the Levant (ISIL)\", \"Irish Republican Army (IRA)\", \"Revolutionary Armed Forces of Colombia (FARC)\", \"Al-Shabaab\", \"Basque Fatherland and Freedom (ETA)\", \"New People's Army (NPA)\", \"Boko Haram\"]}], {\"showlegend\": false, \"yaxis\": {\"title\": \"Count\", \"titlefont\": {\"size\": 14}, \"gridcolor\": \"lightgrey\", \"zeroline\": false, \"tickcolor\": \"white\", \"autotick\": true}, \"paper_bgcolor\": \"white\", \"plot_bgcolor\": \"white\", \"title\": \"Top 10 Terorrist Groups\", \"bargap\": 0, \"titlefont\": {\"size\": 16}, \"xaxis\": {\"title\": \"Terorirst Group\", \"showgrid\": false, \"titlefont\": {\"size\": 14}, \"zeroline\": false, \"tickcolor\": \"white\", \"autotick\": true}, \"font\": {\"color\": \"black\", \"size\": 12}, \"margin\": {\"b\": 200}}, {\"linkText\": \"Export to plot.ly\", \"showLink\": true})});</script>"
      ],
      "text/vnd.plotly.v1+html": [
       "<div id=\"c6c1cccd-0bc7-4173-824a-67c54408a38a\" style=\"height: 525px; width: 100%;\" class=\"plotly-graph-div\"></div><script type=\"text/javascript\">require([\"plotly\"], function(Plotly) { window.PLOTLYENV=window.PLOTLYENV || {};window.PLOTLYENV.BASE_URL=\"https://plot.ly\";Plotly.newPlot(\"c6c1cccd-0bc7-4173-824a-67c54408a38a\", [{\"marker\": {\"color\": \"#bc80bd\"}, \"y\": [5486, 4300, 2952, 2815, 2661, 2319, 2116, 1993, 1972, 1830], \"type\": \"bar\", \"x\": [\"Taliban\", \"Shining Path (SL)\", \"Farabundo Marti National Liberation Front (FMLN)\", \"Islamic State of Iraq and the Levant (ISIL)\", \"Irish Republican Army (IRA)\", \"Revolutionary Armed Forces of Colombia (FARC)\", \"Al-Shabaab\", \"Basque Fatherland and Freedom (ETA)\", \"New People's Army (NPA)\", \"Boko Haram\"]}], {\"showlegend\": false, \"yaxis\": {\"title\": \"Count\", \"titlefont\": {\"size\": 14}, \"gridcolor\": \"lightgrey\", \"zeroline\": false, \"tickcolor\": \"white\", \"autotick\": true}, \"paper_bgcolor\": \"white\", \"plot_bgcolor\": \"white\", \"title\": \"Top 10 Terorrist Groups\", \"bargap\": 0, \"titlefont\": {\"size\": 16}, \"xaxis\": {\"title\": \"Terorirst Group\", \"showgrid\": false, \"titlefont\": {\"size\": 14}, \"zeroline\": false, \"tickcolor\": \"white\", \"autotick\": true}, \"font\": {\"color\": \"black\", \"size\": 12}, \"margin\": {\"b\": 200}}, {\"linkText\": \"Export to plot.ly\", \"showLink\": true})});</script>"
      ]
     },
     "metadata": {},
     "output_type": "display_data"
    }
   ],
   "source": [
    "x, y = zip(*Counter(df[df.gname != 'Unknown'].gname.values.tolist()).most_common()[:10])\n",
    "\n",
    "barplot(x, y, 'Top 10 Terorrist Groups', 'Terorirst Group', 'Count', dict(b=200))"
   ]
  },
  {
   "cell_type": "markdown",
   "metadata": {},
   "source": [
    "Taliban is (or was) the most dangerous organization through 45 years of terrorism. "
   ]
  },
  {
   "cell_type": "markdown",
   "metadata": {},
   "source": [
    "### Property Damage Extent"
   ]
  },
  {
   "cell_type": "code",
   "execution_count": 13,
   "metadata": {
    "collapsed": false,
    "scrolled": false
   },
   "outputs": [
    {
     "data": {
      "application/vnd.plotly.v1+json": {
       "data": [
        {
         "marker": {
          "color": "#bc80bd"
         },
         "type": "bar",
         "x": [
          "Minor (< $1 million)",
          "Major (< $1 billion)",
          "Catastrophic (> $1 billion)"
         ],
         "y": [
          36585,
          870,
          5
         ]
        }
       ],
       "layout": {
        "bargap": 0,
        "font": {
         "color": "black",
         "size": 12
        },
        "margin": {},
        "paper_bgcolor": "white",
        "plot_bgcolor": "white",
        "showlegend": false,
        "title": "Property Damage Extent",
        "titlefont": {
         "size": 16
        },
        "xaxis": {
         "autotick": true,
         "showgrid": false,
         "tickcolor": "white",
         "title": "Extent",
         "titlefont": {
          "size": 14
         },
         "zeroline": false
        },
        "yaxis": {
         "autotick": true,
         "gridcolor": "lightgrey",
         "tickcolor": "white",
         "title": "Count",
         "titlefont": {
          "size": 14
         },
         "zeroline": false
        }
       }
      },
      "text/html": [
       "<div id=\"bcaabede-5d6b-4296-9cf1-db4e3d6333f2\" style=\"height: 525px; width: 100%;\" class=\"plotly-graph-div\"></div><script type=\"text/javascript\">require([\"plotly\"], function(Plotly) { window.PLOTLYENV=window.PLOTLYENV || {};window.PLOTLYENV.BASE_URL=\"https://plot.ly\";Plotly.newPlot(\"bcaabede-5d6b-4296-9cf1-db4e3d6333f2\", [{\"marker\": {\"color\": \"#bc80bd\"}, \"y\": [36585, 870, 5], \"type\": \"bar\", \"x\": [\"Minor (< $1 million)\", \"Major (< $1 billion)\", \"Catastrophic (> $1 billion)\"]}], {\"showlegend\": false, \"yaxis\": {\"title\": \"Count\", \"titlefont\": {\"size\": 14}, \"gridcolor\": \"lightgrey\", \"zeroline\": false, \"tickcolor\": \"white\", \"autotick\": true}, \"paper_bgcolor\": \"white\", \"plot_bgcolor\": \"white\", \"title\": \"Property Damage Extent\", \"bargap\": 0, \"titlefont\": {\"size\": 16}, \"xaxis\": {\"title\": \"Extent\", \"showgrid\": false, \"titlefont\": {\"size\": 14}, \"zeroline\": false, \"tickcolor\": \"white\", \"autotick\": true}, \"font\": {\"color\": \"black\", \"size\": 12}, \"margin\": {}}, {\"linkText\": \"Export to plot.ly\", \"showLink\": true})});</script>"
      ],
      "text/vnd.plotly.v1+html": [
       "<div id=\"bcaabede-5d6b-4296-9cf1-db4e3d6333f2\" style=\"height: 525px; width: 100%;\" class=\"plotly-graph-div\"></div><script type=\"text/javascript\">require([\"plotly\"], function(Plotly) { window.PLOTLYENV=window.PLOTLYENV || {};window.PLOTLYENV.BASE_URL=\"https://plot.ly\";Plotly.newPlot(\"bcaabede-5d6b-4296-9cf1-db4e3d6333f2\", [{\"marker\": {\"color\": \"#bc80bd\"}, \"y\": [36585, 870, 5], \"type\": \"bar\", \"x\": [\"Minor (< $1 million)\", \"Major (< $1 billion)\", \"Catastrophic (> $1 billion)\"]}], {\"showlegend\": false, \"yaxis\": {\"title\": \"Count\", \"titlefont\": {\"size\": 14}, \"gridcolor\": \"lightgrey\", \"zeroline\": false, \"tickcolor\": \"white\", \"autotick\": true}, \"paper_bgcolor\": \"white\", \"plot_bgcolor\": \"white\", \"title\": \"Property Damage Extent\", \"bargap\": 0, \"titlefont\": {\"size\": 16}, \"xaxis\": {\"title\": \"Extent\", \"showgrid\": false, \"titlefont\": {\"size\": 14}, \"zeroline\": false, \"tickcolor\": \"white\", \"autotick\": true}, \"font\": {\"color\": \"black\", \"size\": 12}, \"margin\": {}}, {\"linkText\": \"Export to plot.ly\", \"showLink\": true})});</script>"
      ]
     },
     "metadata": {},
     "output_type": "display_data"
    }
   ],
   "source": [
    "x, y = zip(*Counter(df[(df.propertyextent != 'Unknown') & (df.property == 1)]['propertyextent'].values.tolist()).most_common())\n",
    "\n",
    "barplot(x, y, 'Property Damage Extent', 'Extent', 'Count')"
   ]
  },
  {
   "cell_type": "markdown",
   "metadata": {},
   "source": [
    "Lastly, we do not know anything about the property damage of the majority of cases, but seems like only a few caused more than $1 billion in damage (09 Sep 2001)."
   ]
  },
  {
   "cell_type": "markdown",
   "metadata": {},
   "source": [
    "## Small multiples"
   ]
  },
  {
   "cell_type": "markdown",
   "metadata": {},
   "source": [
    "### Development of Terrorist Attacks in Focus Regions"
   ]
  },
  {
   "cell_type": "code",
   "execution_count": 14,
   "metadata": {
    "collapsed": false
   },
   "outputs": [],
   "source": [
    "def smallmulti(x, y, t, xl, yl):\n",
    "    pos = [\n",
    "        ([0, 0.45], [0.6, 1]),\n",
    "        ([0.55, 1], [0.6, 1]),\n",
    "        ([0, 0.45], [0, 0.4]),\n",
    "        ([0.55, 1], [0, 0.4])\n",
    "    ]\n",
    "\n",
    "    data = []\n",
    "    layout = dict(\n",
    "        bargap=0,\n",
    "        title=t,\n",
    "        titlefont=dict(\n",
    "            size=titlesize\n",
    "        ),\n",
    "        plot_bgcolor=bgcolor,\n",
    "        paper_bgcolor=bgcolor,\n",
    "        font=dict(\n",
    "            color=fontcolor,\n",
    "            size=defaultsize\n",
    "        ),\n",
    "        showlegend=False\n",
    "    )\n",
    "    for i, l in enumerate(xl):\n",
    "        data.append(go.Bar(\n",
    "            x=x[i], \n",
    "            y=y[i], \n",
    "            marker=dict(\n",
    "                color=colors[5]\n",
    "            ),\n",
    "            xaxis='x%d'%(i+1),\n",
    "            yaxis='y%d'%(i+1)\n",
    "        ))\n",
    "        layout['xaxis%d'%(i+1)] = dict(\n",
    "            title='' + l + '',\n",
    "            domain=pos[i][0],\n",
    "            anchor='y%d'%(i+1),\n",
    "            zeroline=False,\n",
    "            autotick=True,\n",
    "            tickcolor=bgcolor,\n",
    "            nticks=5\n",
    "        )\n",
    "        layout['yaxis%d'%(i+1)] = dict(\n",
    "            title='Count',\n",
    "            domain=pos[i][1],\n",
    "            anchor='x%d'%(i+1),\n",
    "            zeroline=False,\n",
    "            gridcolor=gridcolor,\n",
    "            autotick=True,\n",
    "            tickcolor=bgcolor,\n",
    "            nticks=5\n",
    "        )\n",
    "\n",
    "    fig = go.Figure(data=data, layout=layout)\n",
    "    iplot(fig)"
   ]
  },
  {
   "cell_type": "code",
   "execution_count": 15,
   "metadata": {
    "collapsed": false
   },
   "outputs": [
    {
     "data": {
      "application/vnd.plotly.v1+json": {
       "data": [
        {
         "marker": {
          "color": "#fdb462"
         },
         "type": "bar",
         "x": [
          1970,
          1971,
          1972,
          1973,
          1974,
          1975,
          1976,
          1977,
          1978,
          1979,
          1980,
          1981,
          1982,
          1983,
          1984,
          1985,
          1986,
          1987,
          1988,
          1989,
          1990,
          1991,
          1992,
          1994,
          1995,
          1996,
          1997,
          1998,
          1999,
          2000,
          2001,
          2002,
          2003,
          2004,
          2005,
          2006,
          2007,
          2008,
          2009,
          2010,
          2011,
          2012,
          2013,
          2014,
          2015
         ],
         "xaxis": "x1",
         "y": [
          29,
          52,
          34,
          19,
          42,
          44,
          51,
          209,
          124,
          421,
          420,
          296,
          271,
          302,
          248,
          125,
          181,
          191,
          239,
          454,
          465,
          582,
          1119,
          980,
          560,
          362,
          490,
          236,
          295,
          260,
          354,
          322,
          287,
          469,
          861,
          1159,
          1370,
          1524,
          1360,
          1461,
          1656,
          2393,
          4486,
          6869,
          5901
         ],
         "yaxis": "y1"
        },
        {
         "marker": {
          "color": "#fdb462"
         },
         "type": "bar",
         "x": [
          1970,
          1972,
          1973,
          1974,
          1975,
          1976,
          1977,
          1978,
          1979,
          1980,
          1981,
          1982,
          1983,
          1984,
          1985,
          1986,
          1987,
          1988,
          1989,
          1990,
          1991,
          1992,
          1994,
          1995,
          1996,
          1997,
          1998,
          1999,
          2000,
          2001,
          2002,
          2003,
          2004,
          2005,
          2006,
          2007,
          2008,
          2009,
          2010,
          2011,
          2012,
          2013,
          2014,
          2015
         ],
         "xaxis": "x2",
         "y": [
          1,
          1,
          1,
          2,
          4,
          4,
          2,
          2,
          33,
          11,
          22,
          19,
          62,
          228,
          147,
          256,
          338,
          742,
          871,
          572,
          646,
          521,
          369,
          1034,
          701,
          468,
          136,
          223,
          351,
          383,
          330,
          352,
          367,
          595,
          933,
          977,
          1737,
          1944,
          1977,
          2122,
          3783,
          4589,
          4958,
          4553
         ],
         "yaxis": "y2"
        },
        {
         "marker": {
          "color": "#fdb462"
         },
         "type": "bar",
         "x": [
          1970,
          1971,
          1972,
          1973,
          1974,
          1975,
          1976,
          1977,
          1978,
          1979,
          1980,
          1981,
          1982,
          1983,
          1984,
          1985,
          1986,
          1987,
          1988,
          1989,
          1990,
          1991,
          1992,
          1994,
          1995,
          1996,
          1997,
          1998,
          1999,
          2000,
          2001,
          2002,
          2003,
          2004,
          2005,
          2006,
          2007,
          2008,
          2009,
          2010,
          2011,
          2012,
          2013,
          2014,
          2015
         ],
         "xaxis": "x3",
         "y": [
          48,
          124,
          351,
          288,
          314,
          432,
          573,
          764,
          707,
          1015,
          588,
          474,
          401,
          471,
          536,
          463,
          451,
          417,
          488,
          441,
          386,
          689,
          764,
          582,
          319,
          467,
          338,
          138,
          234,
          253,
          234,
          119,
          120,
          59,
          100,
          98,
          72,
          163,
          181,
          133,
          92,
          188,
          253,
          214,
          320
         ],
         "yaxis": "y3"
        },
        {
         "marker": {
          "color": "#fdb462"
         },
         "type": "bar",
         "x": [
          1970,
          1971,
          1972,
          1973,
          1974,
          1975,
          1976,
          1977,
          1978,
          1979,
          1980,
          1981,
          1982,
          1983,
          1984,
          1985,
          1986,
          1987,
          1988,
          1989,
          1990,
          1991,
          1992,
          1994,
          1995,
          1996,
          1997,
          1998,
          1999,
          2000,
          2001,
          2002,
          2003,
          2004,
          2005,
          2006,
          2007,
          2008,
          2009,
          2010,
          2011,
          2012,
          2013,
          2014,
          2015
         ],
         "xaxis": "x4",
         "y": [
          472,
          247,
          69,
          64,
          111,
          159,
          124,
          149,
          115,
          79,
          75,
          76,
          86,
          47,
          67,
          44,
          53,
          35,
          30,
          43,
          37,
          40,
          41,
          102,
          94,
          111,
          135,
          36,
          55,
          41,
          48,
          33,
          33,
          11,
          21,
          15,
          18,
          31,
          15,
          24,
          12,
          35,
          31,
          34,
          62
         ],
         "yaxis": "y4"
        }
       ],
       "layout": {
        "bargap": 0,
        "font": {
         "color": "black",
         "size": 12
        },
        "paper_bgcolor": "white",
        "plot_bgcolor": "white",
        "showlegend": false,
        "title": "Development of Terrorist Attacks in Focus Regions",
        "titlefont": {
         "size": 16
        },
        "xaxis1": {
         "anchor": "y1",
         "autotick": true,
         "domain": [
          0,
          0.45
         ],
         "nticks": 5,
         "tickcolor": "white",
         "title": "Middle East & North Africa",
         "zeroline": false
        },
        "xaxis2": {
         "anchor": "y2",
         "autotick": true,
         "domain": [
          0.55,
          1
         ],
         "nticks": 5,
         "tickcolor": "white",
         "title": "South Asia",
         "zeroline": false
        },
        "xaxis3": {
         "anchor": "y3",
         "autotick": true,
         "domain": [
          0,
          0.45
         ],
         "nticks": 5,
         "tickcolor": "white",
         "title": "Western Europe",
         "zeroline": false
        },
        "xaxis4": {
         "anchor": "y4",
         "autotick": true,
         "domain": [
          0.55,
          1
         ],
         "nticks": 5,
         "tickcolor": "white",
         "title": "North America",
         "zeroline": false
        },
        "yaxis1": {
         "anchor": "x1",
         "autotick": true,
         "domain": [
          0.6,
          1
         ],
         "gridcolor": "lightgrey",
         "nticks": 5,
         "tickcolor": "white",
         "title": "Count",
         "zeroline": false
        },
        "yaxis2": {
         "anchor": "x2",
         "autotick": true,
         "domain": [
          0.6,
          1
         ],
         "gridcolor": "lightgrey",
         "nticks": 5,
         "tickcolor": "white",
         "title": "Count",
         "zeroline": false
        },
        "yaxis3": {
         "anchor": "x3",
         "autotick": true,
         "domain": [
          0,
          0.4
         ],
         "gridcolor": "lightgrey",
         "nticks": 5,
         "tickcolor": "white",
         "title": "Count",
         "zeroline": false
        },
        "yaxis4": {
         "anchor": "x4",
         "autotick": true,
         "domain": [
          0,
          0.4
         ],
         "gridcolor": "lightgrey",
         "nticks": 5,
         "tickcolor": "white",
         "title": "Count",
         "zeroline": false
        }
       }
      },
      "text/html": [
       "<div id=\"0105c6c5-40a2-41bf-a813-782b548a6d18\" style=\"height: 525px; width: 100%;\" class=\"plotly-graph-div\"></div><script type=\"text/javascript\">require([\"plotly\"], function(Plotly) { window.PLOTLYENV=window.PLOTLYENV || {};window.PLOTLYENV.BASE_URL=\"https://plot.ly\";Plotly.newPlot(\"0105c6c5-40a2-41bf-a813-782b548a6d18\", [{\"yaxis\": \"y1\", \"marker\": {\"color\": \"#fdb462\"}, \"xaxis\": \"x1\", \"y\": [29, 52, 34, 19, 42, 44, 51, 209, 124, 421, 420, 296, 271, 302, 248, 125, 181, 191, 239, 454, 465, 582, 1119, 980, 560, 362, 490, 236, 295, 260, 354, 322, 287, 469, 861, 1159, 1370, 1524, 1360, 1461, 1656, 2393, 4486, 6869, 5901], \"x\": [1970, 1971, 1972, 1973, 1974, 1975, 1976, 1977, 1978, 1979, 1980, 1981, 1982, 1983, 1984, 1985, 1986, 1987, 1988, 1989, 1990, 1991, 1992, 1994, 1995, 1996, 1997, 1998, 1999, 2000, 2001, 2002, 2003, 2004, 2005, 2006, 2007, 2008, 2009, 2010, 2011, 2012, 2013, 2014, 2015], \"type\": \"bar\"}, {\"yaxis\": \"y2\", \"marker\": {\"color\": \"#fdb462\"}, \"xaxis\": \"x2\", \"y\": [1, 1, 1, 2, 4, 4, 2, 2, 33, 11, 22, 19, 62, 228, 147, 256, 338, 742, 871, 572, 646, 521, 369, 1034, 701, 468, 136, 223, 351, 383, 330, 352, 367, 595, 933, 977, 1737, 1944, 1977, 2122, 3783, 4589, 4958, 4553], \"x\": [1970, 1972, 1973, 1974, 1975, 1976, 1977, 1978, 1979, 1980, 1981, 1982, 1983, 1984, 1985, 1986, 1987, 1988, 1989, 1990, 1991, 1992, 1994, 1995, 1996, 1997, 1998, 1999, 2000, 2001, 2002, 2003, 2004, 2005, 2006, 2007, 2008, 2009, 2010, 2011, 2012, 2013, 2014, 2015], \"type\": \"bar\"}, {\"yaxis\": \"y3\", \"marker\": {\"color\": \"#fdb462\"}, \"xaxis\": \"x3\", \"y\": [48, 124, 351, 288, 314, 432, 573, 764, 707, 1015, 588, 474, 401, 471, 536, 463, 451, 417, 488, 441, 386, 689, 764, 582, 319, 467, 338, 138, 234, 253, 234, 119, 120, 59, 100, 98, 72, 163, 181, 133, 92, 188, 253, 214, 320], \"x\": [1970, 1971, 1972, 1973, 1974, 1975, 1976, 1977, 1978, 1979, 1980, 1981, 1982, 1983, 1984, 1985, 1986, 1987, 1988, 1989, 1990, 1991, 1992, 1994, 1995, 1996, 1997, 1998, 1999, 2000, 2001, 2002, 2003, 2004, 2005, 2006, 2007, 2008, 2009, 2010, 2011, 2012, 2013, 2014, 2015], \"type\": \"bar\"}, {\"yaxis\": \"y4\", \"marker\": {\"color\": \"#fdb462\"}, \"xaxis\": \"x4\", \"y\": [472, 247, 69, 64, 111, 159, 124, 149, 115, 79, 75, 76, 86, 47, 67, 44, 53, 35, 30, 43, 37, 40, 41, 102, 94, 111, 135, 36, 55, 41, 48, 33, 33, 11, 21, 15, 18, 31, 15, 24, 12, 35, 31, 34, 62], \"x\": [1970, 1971, 1972, 1973, 1974, 1975, 1976, 1977, 1978, 1979, 1980, 1981, 1982, 1983, 1984, 1985, 1986, 1987, 1988, 1989, 1990, 1991, 1992, 1994, 1995, 1996, 1997, 1998, 1999, 2000, 2001, 2002, 2003, 2004, 2005, 2006, 2007, 2008, 2009, 2010, 2011, 2012, 2013, 2014, 2015], \"type\": \"bar\"}], {\"showlegend\": false, \"title\": \"Development of Terrorist Attacks in Focus Regions\", \"paper_bgcolor\": \"white\", \"plot_bgcolor\": \"white\", \"xaxis4\": {\"domain\": [0.55, 1], \"title\": \"North America\", \"zeroline\": false, \"tickcolor\": \"white\", \"autotick\": true, \"anchor\": \"y4\", \"nticks\": 5}, \"xaxis3\": {\"domain\": [0, 0.45], \"title\": \"Western Europe\", \"zeroline\": false, \"tickcolor\": \"white\", \"autotick\": true, \"anchor\": \"y3\", \"nticks\": 5}, \"xaxis2\": {\"domain\": [0.55, 1], \"title\": \"South Asia\", \"zeroline\": false, \"tickcolor\": \"white\", \"autotick\": true, \"anchor\": \"y2\", \"nticks\": 5}, \"xaxis1\": {\"domain\": [0, 0.45], \"title\": \"Middle East & North Africa\", \"zeroline\": false, \"tickcolor\": \"white\", \"autotick\": true, \"anchor\": \"y1\", \"nticks\": 5}, \"yaxis1\": {\"domain\": [0.6, 1], \"title\": \"Count\", \"gridcolor\": \"lightgrey\", \"zeroline\": false, \"tickcolor\": \"white\", \"autotick\": true, \"anchor\": \"x1\", \"nticks\": 5}, \"yaxis2\": {\"domain\": [0.6, 1], \"title\": \"Count\", \"gridcolor\": \"lightgrey\", \"zeroline\": false, \"tickcolor\": \"white\", \"autotick\": true, \"anchor\": \"x2\", \"nticks\": 5}, \"yaxis3\": {\"domain\": [0, 0.4], \"title\": \"Count\", \"gridcolor\": \"lightgrey\", \"zeroline\": false, \"tickcolor\": \"white\", \"autotick\": true, \"anchor\": \"x3\", \"nticks\": 5}, \"titlefont\": {\"size\": 16}, \"bargap\": 0, \"yaxis4\": {\"domain\": [0, 0.4], \"title\": \"Count\", \"gridcolor\": \"lightgrey\", \"zeroline\": false, \"tickcolor\": \"white\", \"autotick\": true, \"anchor\": \"x4\", \"nticks\": 5}, \"font\": {\"color\": \"black\", \"size\": 12}}, {\"linkText\": \"Export to plot.ly\", \"showLink\": true})});</script>"
      ],
      "text/vnd.plotly.v1+html": [
       "<div id=\"0105c6c5-40a2-41bf-a813-782b548a6d18\" style=\"height: 525px; width: 100%;\" class=\"plotly-graph-div\"></div><script type=\"text/javascript\">require([\"plotly\"], function(Plotly) { window.PLOTLYENV=window.PLOTLYENV || {};window.PLOTLYENV.BASE_URL=\"https://plot.ly\";Plotly.newPlot(\"0105c6c5-40a2-41bf-a813-782b548a6d18\", [{\"yaxis\": \"y1\", \"marker\": {\"color\": \"#fdb462\"}, \"xaxis\": \"x1\", \"y\": [29, 52, 34, 19, 42, 44, 51, 209, 124, 421, 420, 296, 271, 302, 248, 125, 181, 191, 239, 454, 465, 582, 1119, 980, 560, 362, 490, 236, 295, 260, 354, 322, 287, 469, 861, 1159, 1370, 1524, 1360, 1461, 1656, 2393, 4486, 6869, 5901], \"x\": [1970, 1971, 1972, 1973, 1974, 1975, 1976, 1977, 1978, 1979, 1980, 1981, 1982, 1983, 1984, 1985, 1986, 1987, 1988, 1989, 1990, 1991, 1992, 1994, 1995, 1996, 1997, 1998, 1999, 2000, 2001, 2002, 2003, 2004, 2005, 2006, 2007, 2008, 2009, 2010, 2011, 2012, 2013, 2014, 2015], \"type\": \"bar\"}, {\"yaxis\": \"y2\", \"marker\": {\"color\": \"#fdb462\"}, \"xaxis\": \"x2\", \"y\": [1, 1, 1, 2, 4, 4, 2, 2, 33, 11, 22, 19, 62, 228, 147, 256, 338, 742, 871, 572, 646, 521, 369, 1034, 701, 468, 136, 223, 351, 383, 330, 352, 367, 595, 933, 977, 1737, 1944, 1977, 2122, 3783, 4589, 4958, 4553], \"x\": [1970, 1972, 1973, 1974, 1975, 1976, 1977, 1978, 1979, 1980, 1981, 1982, 1983, 1984, 1985, 1986, 1987, 1988, 1989, 1990, 1991, 1992, 1994, 1995, 1996, 1997, 1998, 1999, 2000, 2001, 2002, 2003, 2004, 2005, 2006, 2007, 2008, 2009, 2010, 2011, 2012, 2013, 2014, 2015], \"type\": \"bar\"}, {\"yaxis\": \"y3\", \"marker\": {\"color\": \"#fdb462\"}, \"xaxis\": \"x3\", \"y\": [48, 124, 351, 288, 314, 432, 573, 764, 707, 1015, 588, 474, 401, 471, 536, 463, 451, 417, 488, 441, 386, 689, 764, 582, 319, 467, 338, 138, 234, 253, 234, 119, 120, 59, 100, 98, 72, 163, 181, 133, 92, 188, 253, 214, 320], \"x\": [1970, 1971, 1972, 1973, 1974, 1975, 1976, 1977, 1978, 1979, 1980, 1981, 1982, 1983, 1984, 1985, 1986, 1987, 1988, 1989, 1990, 1991, 1992, 1994, 1995, 1996, 1997, 1998, 1999, 2000, 2001, 2002, 2003, 2004, 2005, 2006, 2007, 2008, 2009, 2010, 2011, 2012, 2013, 2014, 2015], \"type\": \"bar\"}, {\"yaxis\": \"y4\", \"marker\": {\"color\": \"#fdb462\"}, \"xaxis\": \"x4\", \"y\": [472, 247, 69, 64, 111, 159, 124, 149, 115, 79, 75, 76, 86, 47, 67, 44, 53, 35, 30, 43, 37, 40, 41, 102, 94, 111, 135, 36, 55, 41, 48, 33, 33, 11, 21, 15, 18, 31, 15, 24, 12, 35, 31, 34, 62], \"x\": [1970, 1971, 1972, 1973, 1974, 1975, 1976, 1977, 1978, 1979, 1980, 1981, 1982, 1983, 1984, 1985, 1986, 1987, 1988, 1989, 1990, 1991, 1992, 1994, 1995, 1996, 1997, 1998, 1999, 2000, 2001, 2002, 2003, 2004, 2005, 2006, 2007, 2008, 2009, 2010, 2011, 2012, 2013, 2014, 2015], \"type\": \"bar\"}], {\"showlegend\": false, \"title\": \"Development of Terrorist Attacks in Focus Regions\", \"paper_bgcolor\": \"white\", \"plot_bgcolor\": \"white\", \"xaxis4\": {\"domain\": [0.55, 1], \"title\": \"North America\", \"zeroline\": false, \"tickcolor\": \"white\", \"autotick\": true, \"anchor\": \"y4\", \"nticks\": 5}, \"xaxis3\": {\"domain\": [0, 0.45], \"title\": \"Western Europe\", \"zeroline\": false, \"tickcolor\": \"white\", \"autotick\": true, \"anchor\": \"y3\", \"nticks\": 5}, \"xaxis2\": {\"domain\": [0.55, 1], \"title\": \"South Asia\", \"zeroline\": false, \"tickcolor\": \"white\", \"autotick\": true, \"anchor\": \"y2\", \"nticks\": 5}, \"xaxis1\": {\"domain\": [0, 0.45], \"title\": \"Middle East & North Africa\", \"zeroline\": false, \"tickcolor\": \"white\", \"autotick\": true, \"anchor\": \"y1\", \"nticks\": 5}, \"yaxis1\": {\"domain\": [0.6, 1], \"title\": \"Count\", \"gridcolor\": \"lightgrey\", \"zeroline\": false, \"tickcolor\": \"white\", \"autotick\": true, \"anchor\": \"x1\", \"nticks\": 5}, \"yaxis2\": {\"domain\": [0.6, 1], \"title\": \"Count\", \"gridcolor\": \"lightgrey\", \"zeroline\": false, \"tickcolor\": \"white\", \"autotick\": true, \"anchor\": \"x2\", \"nticks\": 5}, \"yaxis3\": {\"domain\": [0, 0.4], \"title\": \"Count\", \"gridcolor\": \"lightgrey\", \"zeroline\": false, \"tickcolor\": \"white\", \"autotick\": true, \"anchor\": \"x3\", \"nticks\": 5}, \"titlefont\": {\"size\": 16}, \"bargap\": 0, \"yaxis4\": {\"domain\": [0, 0.4], \"title\": \"Count\", \"gridcolor\": \"lightgrey\", \"zeroline\": false, \"tickcolor\": \"white\", \"autotick\": true, \"anchor\": \"x4\", \"nticks\": 5}, \"font\": {\"color\": \"black\", \"size\": 12}}, {\"linkText\": \"Export to plot.ly\", \"showLink\": true})});</script>"
      ]
     },
     "metadata": {},
     "output_type": "display_data"
    }
   ],
   "source": [
    "regions = ['Middle East & North Africa', 'South Asia', 'Western Europe', 'North America']\n",
    "x, y = zip(*[zip(*df[df[\"region\"] == r].groupby('year').size().reset_index(name='size').values.tolist()) for i, r in enumerate(regions)])\n",
    "\n",
    "smallmulti(x, y, 'Development of Terrorist Attacks in Focus Regions', regions, ['Count']*4)"
   ]
  },
  {
   "cell_type": "markdown",
   "metadata": {},
   "source": [
    "Furthermore, we must have the most terrifying times behind us, back in 20th century, were the number of attacks was at its maximum. After that, we have actually done quite well (compared to other hot regions)."
   ]
  },
  {
   "cell_type": "markdown",
   "metadata": {},
   "source": [
    "### Distribution of Fatalities and Injuries"
   ]
  },
  {
   "cell_type": "markdown",
   "metadata": {},
   "source": [
    "We also want to know how many attacks caused how many deaths and injuries, both on targets and terrorists. For this, we can rely on small multiples to show four different histograms."
   ]
  },
  {
   "cell_type": "code",
   "execution_count": 16,
   "metadata": {
    "collapsed": false
   },
   "outputs": [
    {
     "data": {
      "application/vnd.plotly.v1+json": {
       "data": [
        {
         "marker": {
          "color": "#fdb462"
         },
         "type": "bar",
         "x": [
          0,
          1,
          2,
          3,
          4,
          5,
          6,
          7,
          8,
          10
         ],
         "xaxis": "x1",
         "y": [
          0.551112629062344,
          0.20020755063972887,
          0.07542101253185508,
          0.04148385571289704,
          0.026633476079131965,
          0.018942279904369072,
          0.01368126527073536,
          0.01043664451041694,
          0.00810498384257678,
          0.006377584530909282
         ],
         "yaxis": "y1"
        },
        {
         "marker": {
          "color": "#fdb462"
         },
         "type": "bar",
         "x": [
          0,
          1,
          2,
          3,
          4,
          5,
          6,
          7,
          8,
          10
         ],
         "xaxis": "x2",
         "y": [
          0.6631439981083992,
          0.08774268975120196,
          0.055598612826104093,
          0.039185035336153216,
          0.025753356277750047,
          0.019940624753697817,
          0.015086829729658724,
          0.012472742558390038,
          0.009044216167932113,
          0.007750308698736306
         ],
         "yaxis": "y2"
        },
        {
         "marker": {
          "color": "#fdb462"
         },
         "type": "bar",
         "x": [
          0,
          1,
          2,
          3,
          4,
          5,
          6,
          7,
          8,
          10
         ],
         "xaxis": "x3",
         "y": [
          0.9386806084649134,
          0.033674434490187324,
          0.008689541024091637,
          0.004893203373354702,
          0.002830833092504532,
          0.0019441452329033444,
          0.0016288784383784779,
          0.0010443212568636208,
          0.0008998239760397237,
          0.0008604156267241153
         ],
         "yaxis": "y3"
        },
        {
         "marker": {
          "color": "#fdb462"
         },
         "type": "bar",
         "x": [
          0,
          1,
          2,
          3,
          4,
          5,
          6,
          7,
          10,
          8
         ],
         "xaxis": "x4",
         "y": [
          0.9894976749073904,
          0.004328350366497649,
          0.0017996479520794473,
          0.0010902976643984972,
          0.0006436697054882694,
          0.00045319601712949585,
          0.0004006515513753514,
          0.0002692903869899903,
          0.00023645009589365,
          0.0001904736883587736
         ],
         "yaxis": "y4"
        }
       ],
       "layout": {
        "bargap": 0,
        "font": {
         "color": "black",
         "size": 12
        },
        "paper_bgcolor": "white",
        "plot_bgcolor": "white",
        "showlegend": false,
        "title": "Distribution of Fatalities and Injuries",
        "titlefont": {
         "size": 16
        },
        "xaxis1": {
         "anchor": "y1",
         "autotick": true,
         "domain": [
          0,
          0.45
         ],
         "nticks": 5,
         "tickcolor": "white",
         "title": "Killed",
         "zeroline": false
        },
        "xaxis2": {
         "anchor": "y2",
         "autotick": true,
         "domain": [
          0.55,
          1
         ],
         "nticks": 5,
         "tickcolor": "white",
         "title": "Wounded",
         "zeroline": false
        },
        "xaxis3": {
         "anchor": "y3",
         "autotick": true,
         "domain": [
          0,
          0.45
         ],
         "nticks": 5,
         "tickcolor": "white",
         "title": "Killed Terrorists",
         "zeroline": false
        },
        "xaxis4": {
         "anchor": "y4",
         "autotick": true,
         "domain": [
          0.55,
          1
         ],
         "nticks": 5,
         "tickcolor": "white",
         "title": "Wounded Terrorists",
         "zeroline": false
        },
        "yaxis1": {
         "anchor": "x1",
         "autotick": true,
         "domain": [
          0.6,
          1
         ],
         "gridcolor": "lightgrey",
         "nticks": 5,
         "tickcolor": "white",
         "title": "Count",
         "zeroline": false
        },
        "yaxis2": {
         "anchor": "x2",
         "autotick": true,
         "domain": [
          0.6,
          1
         ],
         "gridcolor": "lightgrey",
         "nticks": 5,
         "tickcolor": "white",
         "title": "Count",
         "zeroline": false
        },
        "yaxis3": {
         "anchor": "x3",
         "autotick": true,
         "domain": [
          0,
          0.4
         ],
         "gridcolor": "lightgrey",
         "nticks": 5,
         "tickcolor": "white",
         "title": "Count",
         "zeroline": false
        },
        "yaxis4": {
         "anchor": "x4",
         "autotick": true,
         "domain": [
          0,
          0.4
         ],
         "gridcolor": "lightgrey",
         "nticks": 5,
         "tickcolor": "white",
         "title": "Count",
         "zeroline": false
        }
       }
      },
      "text/html": [
       "<div id=\"4967daf6-2211-4bab-897a-34fa2dd3505c\" style=\"height: 525px; width: 100%;\" class=\"plotly-graph-div\"></div><script type=\"text/javascript\">require([\"plotly\"], function(Plotly) { window.PLOTLYENV=window.PLOTLYENV || {};window.PLOTLYENV.BASE_URL=\"https://plot.ly\";Plotly.newPlot(\"4967daf6-2211-4bab-897a-34fa2dd3505c\", [{\"yaxis\": \"y1\", \"marker\": {\"color\": \"#fdb462\"}, \"xaxis\": \"x1\", \"y\": [0.551112629062344, 0.20020755063972887, 0.07542101253185508, 0.04148385571289704, 0.026633476079131965, 0.018942279904369072, 0.01368126527073536, 0.01043664451041694, 0.00810498384257678, 0.006377584530909282], \"x\": [0, 1, 2, 3, 4, 5, 6, 7, 8, 10], \"type\": \"bar\"}, {\"yaxis\": \"y2\", \"marker\": {\"color\": \"#fdb462\"}, \"xaxis\": \"x2\", \"y\": [0.6631439981083992, 0.08774268975120196, 0.055598612826104093, 0.039185035336153216, 0.025753356277750047, 0.019940624753697817, 0.015086829729658724, 0.012472742558390038, 0.009044216167932113, 0.007750308698736306], \"x\": [0, 1, 2, 3, 4, 5, 6, 7, 8, 10], \"type\": \"bar\"}, {\"yaxis\": \"y3\", \"marker\": {\"color\": \"#fdb462\"}, \"xaxis\": \"x3\", \"y\": [0.9386806084649134, 0.033674434490187324, 0.008689541024091637, 0.004893203373354702, 0.002830833092504532, 0.0019441452329033444, 0.0016288784383784779, 0.0010443212568636208, 0.0008998239760397237, 0.0008604156267241153], \"x\": [0, 1, 2, 3, 4, 5, 6, 7, 8, 10], \"type\": \"bar\"}, {\"yaxis\": \"y4\", \"marker\": {\"color\": \"#fdb462\"}, \"xaxis\": \"x4\", \"y\": [0.9894976749073904, 0.004328350366497649, 0.0017996479520794473, 0.0010902976643984972, 0.0006436697054882694, 0.00045319601712949585, 0.0004006515513753514, 0.0002692903869899903, 0.00023645009589365, 0.0001904736883587736], \"x\": [0, 1, 2, 3, 4, 5, 6, 7, 10, 8], \"type\": \"bar\"}], {\"showlegend\": false, \"title\": \"Distribution of Fatalities and Injuries\", \"paper_bgcolor\": \"white\", \"plot_bgcolor\": \"white\", \"xaxis4\": {\"domain\": [0.55, 1], \"title\": \"Wounded Terrorists\", \"zeroline\": false, \"tickcolor\": \"white\", \"autotick\": true, \"anchor\": \"y4\", \"nticks\": 5}, \"xaxis3\": {\"domain\": [0, 0.45], \"title\": \"Killed Terrorists\", \"zeroline\": false, \"tickcolor\": \"white\", \"autotick\": true, \"anchor\": \"y3\", \"nticks\": 5}, \"xaxis2\": {\"domain\": [0.55, 1], \"title\": \"Wounded\", \"zeroline\": false, \"tickcolor\": \"white\", \"autotick\": true, \"anchor\": \"y2\", \"nticks\": 5}, \"xaxis1\": {\"domain\": [0, 0.45], \"title\": \"Killed\", \"zeroline\": false, \"tickcolor\": \"white\", \"autotick\": true, \"anchor\": \"y1\", \"nticks\": 5}, \"yaxis1\": {\"domain\": [0.6, 1], \"title\": \"Count\", \"gridcolor\": \"lightgrey\", \"zeroline\": false, \"tickcolor\": \"white\", \"autotick\": true, \"anchor\": \"x1\", \"nticks\": 5}, \"yaxis2\": {\"domain\": [0.6, 1], \"title\": \"Count\", \"gridcolor\": \"lightgrey\", \"zeroline\": false, \"tickcolor\": \"white\", \"autotick\": true, \"anchor\": \"x2\", \"nticks\": 5}, \"yaxis3\": {\"domain\": [0, 0.4], \"title\": \"Count\", \"gridcolor\": \"lightgrey\", \"zeroline\": false, \"tickcolor\": \"white\", \"autotick\": true, \"anchor\": \"x3\", \"nticks\": 5}, \"titlefont\": {\"size\": 16}, \"bargap\": 0, \"yaxis4\": {\"domain\": [0, 0.4], \"title\": \"Count\", \"gridcolor\": \"lightgrey\", \"zeroline\": false, \"tickcolor\": \"white\", \"autotick\": true, \"anchor\": \"x4\", \"nticks\": 5}, \"font\": {\"color\": \"black\", \"size\": 12}}, {\"linkText\": \"Export to plot.ly\", \"showLink\": true})});</script>"
      ],
      "text/vnd.plotly.v1+html": [
       "<div id=\"4967daf6-2211-4bab-897a-34fa2dd3505c\" style=\"height: 525px; width: 100%;\" class=\"plotly-graph-div\"></div><script type=\"text/javascript\">require([\"plotly\"], function(Plotly) { window.PLOTLYENV=window.PLOTLYENV || {};window.PLOTLYENV.BASE_URL=\"https://plot.ly\";Plotly.newPlot(\"4967daf6-2211-4bab-897a-34fa2dd3505c\", [{\"yaxis\": \"y1\", \"marker\": {\"color\": \"#fdb462\"}, \"xaxis\": \"x1\", \"y\": [0.551112629062344, 0.20020755063972887, 0.07542101253185508, 0.04148385571289704, 0.026633476079131965, 0.018942279904369072, 0.01368126527073536, 0.01043664451041694, 0.00810498384257678, 0.006377584530909282], \"x\": [0, 1, 2, 3, 4, 5, 6, 7, 8, 10], \"type\": \"bar\"}, {\"yaxis\": \"y2\", \"marker\": {\"color\": \"#fdb462\"}, \"xaxis\": \"x2\", \"y\": [0.6631439981083992, 0.08774268975120196, 0.055598612826104093, 0.039185035336153216, 0.025753356277750047, 0.019940624753697817, 0.015086829729658724, 0.012472742558390038, 0.009044216167932113, 0.007750308698736306], \"x\": [0, 1, 2, 3, 4, 5, 6, 7, 8, 10], \"type\": \"bar\"}, {\"yaxis\": \"y3\", \"marker\": {\"color\": \"#fdb462\"}, \"xaxis\": \"x3\", \"y\": [0.9386806084649134, 0.033674434490187324, 0.008689541024091637, 0.004893203373354702, 0.002830833092504532, 0.0019441452329033444, 0.0016288784383784779, 0.0010443212568636208, 0.0008998239760397237, 0.0008604156267241153], \"x\": [0, 1, 2, 3, 4, 5, 6, 7, 8, 10], \"type\": \"bar\"}, {\"yaxis\": \"y4\", \"marker\": {\"color\": \"#fdb462\"}, \"xaxis\": \"x4\", \"y\": [0.9894976749073904, 0.004328350366497649, 0.0017996479520794473, 0.0010902976643984972, 0.0006436697054882694, 0.00045319601712949585, 0.0004006515513753514, 0.0002692903869899903, 0.00023645009589365, 0.0001904736883587736], \"x\": [0, 1, 2, 3, 4, 5, 6, 7, 10, 8], \"type\": \"bar\"}], {\"showlegend\": false, \"title\": \"Distribution of Fatalities and Injuries\", \"paper_bgcolor\": \"white\", \"plot_bgcolor\": \"white\", \"xaxis4\": {\"domain\": [0.55, 1], \"title\": \"Wounded Terrorists\", \"zeroline\": false, \"tickcolor\": \"white\", \"autotick\": true, \"anchor\": \"y4\", \"nticks\": 5}, \"xaxis3\": {\"domain\": [0, 0.45], \"title\": \"Killed Terrorists\", \"zeroline\": false, \"tickcolor\": \"white\", \"autotick\": true, \"anchor\": \"y3\", \"nticks\": 5}, \"xaxis2\": {\"domain\": [0.55, 1], \"title\": \"Wounded\", \"zeroline\": false, \"tickcolor\": \"white\", \"autotick\": true, \"anchor\": \"y2\", \"nticks\": 5}, \"xaxis1\": {\"domain\": [0, 0.45], \"title\": \"Killed\", \"zeroline\": false, \"tickcolor\": \"white\", \"autotick\": true, \"anchor\": \"y1\", \"nticks\": 5}, \"yaxis1\": {\"domain\": [0.6, 1], \"title\": \"Count\", \"gridcolor\": \"lightgrey\", \"zeroline\": false, \"tickcolor\": \"white\", \"autotick\": true, \"anchor\": \"x1\", \"nticks\": 5}, \"yaxis2\": {\"domain\": [0.6, 1], \"title\": \"Count\", \"gridcolor\": \"lightgrey\", \"zeroline\": false, \"tickcolor\": \"white\", \"autotick\": true, \"anchor\": \"x2\", \"nticks\": 5}, \"yaxis3\": {\"domain\": [0, 0.4], \"title\": \"Count\", \"gridcolor\": \"lightgrey\", \"zeroline\": false, \"tickcolor\": \"white\", \"autotick\": true, \"anchor\": \"x3\", \"nticks\": 5}, \"titlefont\": {\"size\": 16}, \"bargap\": 0, \"yaxis4\": {\"domain\": [0, 0.4], \"title\": \"Count\", \"gridcolor\": \"lightgrey\", \"zeroline\": false, \"tickcolor\": \"white\", \"autotick\": true, \"anchor\": \"x4\", \"nticks\": 5}, \"font\": {\"color\": \"black\", \"size\": 12}}, {\"linkText\": \"Export to plot.ly\", \"showLink\": true})});</script>"
      ]
     },
     "metadata": {},
     "output_type": "display_data"
    }
   ],
   "source": [
    "col_labels = [\n",
    "    ('nkilled', 'Killed'),\n",
    "    ('nwounded', 'Wounded'),\n",
    "    ('nkilledter', 'Killed Terrorists'),\n",
    "    ('nwoundedter', 'Wounded Terrorists')\n",
    "]\n",
    "\n",
    "x, y = [], []\n",
    "for i, (col, label) in enumerate(col_labels):\n",
    "    x_, y_ = zip(*Counter(df[col][df[col] >= 0].values.tolist()).most_common()[:10])\n",
    "    y_ = np.asarray(y_)/len(df.index)\n",
    "    x.append(x_)\n",
    "    y.append(y_)\n",
    "    \n",
    "smallmulti(x, y, 'Distribution of Fatalities and Injuries', zip(*col_labels)[1], ['Frequency']*4)"
   ]
  },
  {
   "cell_type": "markdown",
   "metadata": {},
   "source": [
    "To our big surprise, nearly a half of all attacks on targets went without deaths and more than half without injuries. In more than a half of all cases the terrorist survived. "
   ]
  },
  {
   "cell_type": "markdown",
   "metadata": {},
   "source": [
    "## Multidimensional data"
   ]
  },
  {
   "cell_type": "markdown",
   "metadata": {},
   "source": [
    "### Terrorist Attacks by Weapon"
   ]
  },
  {
   "cell_type": "code",
   "execution_count": 17,
   "metadata": {
    "collapsed": false
   },
   "outputs": [],
   "source": [
    "def scatterplot(col, title, xlabel, ylabel, color='skyblue'):\n",
    "    t = df[col].unique()\n",
    "    z = df.groupby(col).size().reset_index(name='size')['size']\n",
    "    x = df.groupby(col)['nkilled'].sum().reset_index(name='sum')['sum']\n",
    "    y = df.groupby(col)['nwounded'].sum().reset_index(name='sum')['sum']\n",
    "    text = t + '<br>' + z.astype(str) + ' Attacks<br>' + x.astype(str) + ' Killed<br>' + y.astype(str) + ' Wounded<br>'\n",
    "\n",
    "    data = [\n",
    "        go.Scatter(\n",
    "            x=x,\n",
    "            y=y,\n",
    "            mode='markers+text',\n",
    "            marker=dict(\n",
    "                size=10+np.asarray(z)/1000,\n",
    "                color=colors[6],\n",
    "                opacity=1,\n",
    "                line=go.Line(\n",
    "                    color=bgcolor\n",
    "                )\n",
    "            ),\n",
    "            hoverinfo='text',\n",
    "            text=t,\n",
    "            textfont=dict(\n",
    "                size=smallsize\n",
    "            ),\n",
    "            textposition='top'\n",
    "        )\n",
    "    ]\n",
    "    \n",
    "    layout = go.Layout(\n",
    "        title=title,\n",
    "        titlefont=dict(\n",
    "            size=titlesize\n",
    "        ),\n",
    "        plot_bgcolor=bgcolor,\n",
    "        paper_bgcolor=bgcolor,\n",
    "        font=dict(\n",
    "            color=fontcolor,\n",
    "            size=defaultsize\n",
    "        ),\n",
    "        xaxis=dict(\n",
    "            type='log',\n",
    "            title=xlabel,\n",
    "            showgrid=True,\n",
    "            gridcolor=gridcolor,\n",
    "            zeroline=False,\n",
    "            autotick=True,\n",
    "            tickcolor=bgcolor,\n",
    "            nticks=4\n",
    "        ),\n",
    "        yaxis = dict(\n",
    "            type='log',\n",
    "            title=ylabel,\n",
    "            showgrid=True,\n",
    "            gridcolor=gridcolor,\n",
    "            zeroline=False,\n",
    "            autotick=True,\n",
    "            tickcolor=bgcolor,\n",
    "            nticks=4\n",
    "        )\n",
    "    )\n",
    "\n",
    "    fig = go.Figure(data=data, layout=layout)\n",
    "    iplot(fig)"
   ]
  },
  {
   "cell_type": "code",
   "execution_count": 18,
   "metadata": {
    "collapsed": false
   },
   "outputs": [
    {
     "data": {
      "application/vnd.plotly.v1+json": {
       "data": [
        {
         "hoverinfo": "text",
         "marker": {
          "color": "#b3de69",
          "line": {
           "color": "white"
          },
          "opacity": 1,
          "size": [
           10.033,
           10.203,
           87.755,
           10.031,
           59.801,
           19.622,
           12.922,
           10.092,
           10.013,
           10.115,
           21.561,
           10.104
          ]
         },
         "mode": "markers+text",
         "text": [
          "Unknown",
          "Explosives/Bombs/Dynamite",
          "Incendiary",
          "Firearms",
          "Chemical",
          "Fake Weapons",
          "Melee",
          "Sabotage Equipment",
          "Vehicle",
          "Radiological",
          "Other",
          "Biological"
         ],
         "textfont": {
          "size": 10
         },
         "textposition": "top",
         "type": "scatter",
         "x": [
          7,
          392,
          139310,
          1,
          145389,
          4909,
          8889,
          46,
          0,
          49,
          29195,
          3101
         ],
         "y": [
          805,
          10327,
          334344,
          0,
          63754,
          4290,
          4647,
          94,
          0,
          225,
          13192,
          410
         ]
        }
       ],
       "layout": {
        "font": {
         "color": "black",
         "size": 12
        },
        "paper_bgcolor": "white",
        "plot_bgcolor": "white",
        "title": "Terrorist Attacks by Weapon",
        "titlefont": {
         "size": 16
        },
        "xaxis": {
         "autotick": true,
         "gridcolor": "lightgrey",
         "nticks": 4,
         "showgrid": true,
         "tickcolor": "white",
         "title": "Wounded",
         "type": "log",
         "zeroline": false
        },
        "yaxis": {
         "autotick": true,
         "gridcolor": "lightgrey",
         "nticks": 4,
         "showgrid": true,
         "tickcolor": "white",
         "title": "Killed",
         "type": "log",
         "zeroline": false
        }
       }
      },
      "text/html": [
       "<div id=\"5e25b600-4c73-426b-a4ae-d8a07d1c4bb7\" style=\"height: 525px; width: 100%;\" class=\"plotly-graph-div\"></div><script type=\"text/javascript\">require([\"plotly\"], function(Plotly) { window.PLOTLYENV=window.PLOTLYENV || {};window.PLOTLYENV.BASE_URL=\"https://plot.ly\";Plotly.newPlot(\"5e25b600-4c73-426b-a4ae-d8a07d1c4bb7\", [{\"textposition\": \"top\", \"textfont\": {\"size\": 10}, \"text\": [\"Unknown\", \"Explosives/Bombs/Dynamite\", \"Incendiary\", \"Firearms\", \"Chemical\", \"Fake Weapons\", \"Melee\", \"Sabotage Equipment\", \"Vehicle\", \"Radiological\", \"Other\", \"Biological\"], \"marker\": {\"opacity\": 1, \"color\": \"#b3de69\", \"line\": {\"color\": \"white\"}, \"size\": [10.033, 10.203, 87.755, 10.031, 59.801, 19.622, 12.922, 10.092, 10.013, 10.115, 21.561, 10.104]}, \"mode\": \"markers+text\", \"hoverinfo\": \"text\", \"y\": [805, 10327, 334344, 0, 63754, 4290, 4647, 94, 0, 225, 13192, 410], \"x\": [7, 392, 139310, 1, 145389, 4909, 8889, 46, 0, 49, 29195, 3101], \"type\": \"scatter\"}], {\"yaxis\": {\"title\": \"Killed\", \"showgrid\": true, \"gridcolor\": \"lightgrey\", \"zeroline\": false, \"tickcolor\": \"white\", \"nticks\": 4, \"type\": \"log\", \"autotick\": true}, \"paper_bgcolor\": \"white\", \"plot_bgcolor\": \"white\", \"title\": \"Terrorist Attacks by Weapon\", \"titlefont\": {\"size\": 16}, \"xaxis\": {\"title\": \"Wounded\", \"showgrid\": true, \"gridcolor\": \"lightgrey\", \"zeroline\": false, \"tickcolor\": \"white\", \"nticks\": 4, \"type\": \"log\", \"autotick\": true}, \"font\": {\"color\": \"black\", \"size\": 12}}, {\"linkText\": \"Export to plot.ly\", \"showLink\": true})});</script>"
      ],
      "text/vnd.plotly.v1+html": [
       "<div id=\"5e25b600-4c73-426b-a4ae-d8a07d1c4bb7\" style=\"height: 525px; width: 100%;\" class=\"plotly-graph-div\"></div><script type=\"text/javascript\">require([\"plotly\"], function(Plotly) { window.PLOTLYENV=window.PLOTLYENV || {};window.PLOTLYENV.BASE_URL=\"https://plot.ly\";Plotly.newPlot(\"5e25b600-4c73-426b-a4ae-d8a07d1c4bb7\", [{\"textposition\": \"top\", \"textfont\": {\"size\": 10}, \"text\": [\"Unknown\", \"Explosives/Bombs/Dynamite\", \"Incendiary\", \"Firearms\", \"Chemical\", \"Fake Weapons\", \"Melee\", \"Sabotage Equipment\", \"Vehicle\", \"Radiological\", \"Other\", \"Biological\"], \"marker\": {\"opacity\": 1, \"color\": \"#b3de69\", \"line\": {\"color\": \"white\"}, \"size\": [10.033, 10.203, 87.755, 10.031, 59.801, 19.622, 12.922, 10.092, 10.013, 10.115, 21.561, 10.104]}, \"mode\": \"markers+text\", \"hoverinfo\": \"text\", \"y\": [805, 10327, 334344, 0, 63754, 4290, 4647, 94, 0, 225, 13192, 410], \"x\": [7, 392, 139310, 1, 145389, 4909, 8889, 46, 0, 49, 29195, 3101], \"type\": \"scatter\"}], {\"yaxis\": {\"title\": \"Killed\", \"showgrid\": true, \"gridcolor\": \"lightgrey\", \"zeroline\": false, \"tickcolor\": \"white\", \"nticks\": 4, \"type\": \"log\", \"autotick\": true}, \"paper_bgcolor\": \"white\", \"plot_bgcolor\": \"white\", \"title\": \"Terrorist Attacks by Weapon\", \"titlefont\": {\"size\": 16}, \"xaxis\": {\"title\": \"Wounded\", \"showgrid\": true, \"gridcolor\": \"lightgrey\", \"zeroline\": false, \"tickcolor\": \"white\", \"nticks\": 4, \"type\": \"log\", \"autotick\": true}, \"font\": {\"color\": \"black\", \"size\": 12}}, {\"linkText\": \"Export to plot.ly\", \"showLink\": true})});</script>"
      ]
     },
     "metadata": {},
     "output_type": "display_data"
    }
   ],
   "source": [
    "scatterplot('weapontype', 'Terrorist Attacks by Weapon', 'Wounded', 'Killed', color='orange')"
   ]
  },
  {
   "cell_type": "markdown",
   "metadata": {},
   "source": [
    "What about typical terror-related weapons? The most death- and injury-bringing weapons are incendiary bombs and devices, but also chemical weapons. Both are also the most commonly used ones."
   ]
  },
  {
   "cell_type": "markdown",
   "metadata": {},
   "source": [
    "### Terrorist Attacks by Type"
   ]
  },
  {
   "cell_type": "code",
   "execution_count": 19,
   "metadata": {
    "collapsed": false,
    "scrolled": false
   },
   "outputs": [
    {
     "data": {
      "application/vnd.plotly.v1+json": {
       "data": [
        {
         "hoverinfo": "text",
         "marker": {
          "color": "#b3de69",
          "line": {
           "color": "white"
          },
          "opacity": 1,
          "size": [
           45.939,
           27.096,
           84.587,
           18.689999999999998,
           10.526,
           10.806000000000001,
           18.66,
           10.799,
           15.149000000000001
          ]
         },
         "mode": "markers+text",
         "text": [
          "Assassination",
          "Hostage Taking (Kidnapping)",
          "Bombing/Explosion",
          "Facility/Infrastructure Attack",
          "Armed Assault",
          "Hijacking",
          "Unknown",
          "Unarmed Assault",
          "Hostage Taking (Barricade Incident)"
         ],
         "textfont": {
          "size": 10
         },
         "textposition": "top",
         "type": "scatter",
         "x": [
          134166,
          22205,
          126791,
          3231,
          3630,
          2513,
          16238,
          689,
          21825
         ],
         "y": [
          63999,
          12226,
          322644,
          3287,
          541,
          1836,
          4528,
          12367,
          10660
         ]
        }
       ],
       "layout": {
        "font": {
         "color": "black",
         "size": 12
        },
        "paper_bgcolor": "white",
        "plot_bgcolor": "white",
        "title": "Terrorist Attacks by Type",
        "titlefont": {
         "size": 16
        },
        "xaxis": {
         "autotick": true,
         "gridcolor": "lightgrey",
         "nticks": 4,
         "showgrid": true,
         "tickcolor": "white",
         "title": "Wounded",
         "type": "log",
         "zeroline": false
        },
        "yaxis": {
         "autotick": true,
         "gridcolor": "lightgrey",
         "nticks": 4,
         "showgrid": true,
         "tickcolor": "white",
         "title": "Killed",
         "type": "log",
         "zeroline": false
        }
       }
      },
      "text/html": [
       "<div id=\"daf9d938-d1f8-4ff4-977f-9e87a487d455\" style=\"height: 525px; width: 100%;\" class=\"plotly-graph-div\"></div><script type=\"text/javascript\">require([\"plotly\"], function(Plotly) { window.PLOTLYENV=window.PLOTLYENV || {};window.PLOTLYENV.BASE_URL=\"https://plot.ly\";Plotly.newPlot(\"daf9d938-d1f8-4ff4-977f-9e87a487d455\", [{\"textposition\": \"top\", \"textfont\": {\"size\": 10}, \"text\": [\"Assassination\", \"Hostage Taking (Kidnapping)\", \"Bombing/Explosion\", \"Facility/Infrastructure Attack\", \"Armed Assault\", \"Hijacking\", \"Unknown\", \"Unarmed Assault\", \"Hostage Taking (Barricade Incident)\"], \"marker\": {\"opacity\": 1, \"color\": \"#b3de69\", \"line\": {\"color\": \"white\"}, \"size\": [45.939, 27.096, 84.587, 18.689999999999998, 10.526, 10.806000000000001, 18.66, 10.799, 15.149000000000001]}, \"mode\": \"markers+text\", \"hoverinfo\": \"text\", \"y\": [63999, 12226, 322644, 3287, 541, 1836, 4528, 12367, 10660], \"x\": [134166, 22205, 126791, 3231, 3630, 2513, 16238, 689, 21825], \"type\": \"scatter\"}], {\"yaxis\": {\"title\": \"Killed\", \"showgrid\": true, \"gridcolor\": \"lightgrey\", \"zeroline\": false, \"tickcolor\": \"white\", \"nticks\": 4, \"type\": \"log\", \"autotick\": true}, \"paper_bgcolor\": \"white\", \"plot_bgcolor\": \"white\", \"title\": \"Terrorist Attacks by Type\", \"titlefont\": {\"size\": 16}, \"xaxis\": {\"title\": \"Wounded\", \"showgrid\": true, \"gridcolor\": \"lightgrey\", \"zeroline\": false, \"tickcolor\": \"white\", \"nticks\": 4, \"type\": \"log\", \"autotick\": true}, \"font\": {\"color\": \"black\", \"size\": 12}}, {\"linkText\": \"Export to plot.ly\", \"showLink\": true})});</script>"
      ],
      "text/vnd.plotly.v1+html": [
       "<div id=\"daf9d938-d1f8-4ff4-977f-9e87a487d455\" style=\"height: 525px; width: 100%;\" class=\"plotly-graph-div\"></div><script type=\"text/javascript\">require([\"plotly\"], function(Plotly) { window.PLOTLYENV=window.PLOTLYENV || {};window.PLOTLYENV.BASE_URL=\"https://plot.ly\";Plotly.newPlot(\"daf9d938-d1f8-4ff4-977f-9e87a487d455\", [{\"textposition\": \"top\", \"textfont\": {\"size\": 10}, \"text\": [\"Assassination\", \"Hostage Taking (Kidnapping)\", \"Bombing/Explosion\", \"Facility/Infrastructure Attack\", \"Armed Assault\", \"Hijacking\", \"Unknown\", \"Unarmed Assault\", \"Hostage Taking (Barricade Incident)\"], \"marker\": {\"opacity\": 1, \"color\": \"#b3de69\", \"line\": {\"color\": \"white\"}, \"size\": [45.939, 27.096, 84.587, 18.689999999999998, 10.526, 10.806000000000001, 18.66, 10.799, 15.149000000000001]}, \"mode\": \"markers+text\", \"hoverinfo\": \"text\", \"y\": [63999, 12226, 322644, 3287, 541, 1836, 4528, 12367, 10660], \"x\": [134166, 22205, 126791, 3231, 3630, 2513, 16238, 689, 21825], \"type\": \"scatter\"}], {\"yaxis\": {\"title\": \"Killed\", \"showgrid\": true, \"gridcolor\": \"lightgrey\", \"zeroline\": false, \"tickcolor\": \"white\", \"nticks\": 4, \"type\": \"log\", \"autotick\": true}, \"paper_bgcolor\": \"white\", \"plot_bgcolor\": \"white\", \"title\": \"Terrorist Attacks by Type\", \"titlefont\": {\"size\": 16}, \"xaxis\": {\"title\": \"Wounded\", \"showgrid\": true, \"gridcolor\": \"lightgrey\", \"zeroline\": false, \"tickcolor\": \"white\", \"nticks\": 4, \"type\": \"log\", \"autotick\": true}, \"font\": {\"color\": \"black\", \"size\": 12}}, {\"linkText\": \"Export to plot.ly\", \"showLink\": true})});</script>"
      ]
     },
     "metadata": {},
     "output_type": "display_data"
    }
   ],
   "source": [
    "scatterplot('attacktype', 'Terrorist Attacks by Type', 'Wounded', 'Killed', color='orange')"
   ]
  },
  {
   "cell_type": "markdown",
   "metadata": {},
   "source": [
    "After we familiarized ourselves with weapons, we would like to know how terrorists proceed to cause the highest damage. From the list of all possible actions, explosions and armed assaults both create the highest impact. "
   ]
  },
  {
   "cell_type": "markdown",
   "metadata": {},
   "source": [
    "### Terrorist Attacks by Target"
   ]
  },
  {
   "cell_type": "code",
   "execution_count": 20,
   "metadata": {
    "collapsed": false
   },
   "outputs": [
    {
     "data": {
      "application/vnd.plotly.v1+json": {
       "data": [
        {
         "hoverinfo": "text",
         "marker": {
          "color": "#b3de69",
          "line": {
           "color": "white"
          },
          "opacity": 1,
          "size": [
           10.262,
           11.269,
           28.495,
           13.894,
           10.278,
           13.282,
           28.777,
           12.576,
           10.279,
           31.814,
           10.839,
           10.451,
           30.879,
           44.965,
           13.835,
           10.924,
           12.475,
           10.4,
           16.162,
           13.746,
           15.039,
           11.611
          ]
         },
         "mode": "markers+text",
         "text": [
          "Private Citizens & Property",
          "Government (Diplomatic)",
          "Journalists & Media",
          "Police",
          "Utilities",
          "Military",
          "Government (General)",
          "Airports & Aircraft",
          "Business",
          "Educational Institution",
          "Violent Political Party",
          "Religious Figures/Institutions",
          "Unknown",
          "Transportation",
          "Tourists",
          "NGO",
          "Telecommunication",
          "Food or Water Supply",
          "Terrorists/Non-State Militia",
          "Other",
          "Maritime",
          "Abortion Related"
         ],
         "textfont": {
          "size": 10
         },
         "textposition": "top",
         "type": "scatter",
         "x": [
          10,
          3385,
          19431,
          3355,
          272,
          2477,
          22381,
          1290,
          1003,
          79552,
          862,
          1949,
          43494,
          112092,
          11365,
          159,
          7091,
          675,
          12425,
          3290,
          1429,
          3301
         ],
         "y": [
          46,
          3028,
          46043,
          9101,
          210,
          9075,
          37337,
          1481,
          755,
          55974,
          779,
          2849,
          55100,
          132885,
          21560,
          492,
          6481,
          1205,
          38632,
          2968,
          1027,
          5060
         ]
        }
       ],
       "layout": {
        "font": {
         "color": "black",
         "size": 12
        },
        "paper_bgcolor": "white",
        "plot_bgcolor": "white",
        "title": "Terrorist Attacks by Target",
        "titlefont": {
         "size": 16
        },
        "xaxis": {
         "autotick": true,
         "gridcolor": "lightgrey",
         "nticks": 4,
         "showgrid": true,
         "tickcolor": "white",
         "title": "Wounded",
         "type": "log",
         "zeroline": false
        },
        "yaxis": {
         "autotick": true,
         "gridcolor": "lightgrey",
         "nticks": 4,
         "showgrid": true,
         "tickcolor": "white",
         "title": "Killed",
         "type": "log",
         "zeroline": false
        }
       }
      },
      "text/html": [
       "<div id=\"58b0eeca-3804-4618-971c-3549f942b73a\" style=\"height: 525px; width: 100%;\" class=\"plotly-graph-div\"></div><script type=\"text/javascript\">require([\"plotly\"], function(Plotly) { window.PLOTLYENV=window.PLOTLYENV || {};window.PLOTLYENV.BASE_URL=\"https://plot.ly\";Plotly.newPlot(\"58b0eeca-3804-4618-971c-3549f942b73a\", [{\"textposition\": \"top\", \"textfont\": {\"size\": 10}, \"text\": [\"Private Citizens & Property\", \"Government (Diplomatic)\", \"Journalists & Media\", \"Police\", \"Utilities\", \"Military\", \"Government (General)\", \"Airports & Aircraft\", \"Business\", \"Educational Institution\", \"Violent Political Party\", \"Religious Figures/Institutions\", \"Unknown\", \"Transportation\", \"Tourists\", \"NGO\", \"Telecommunication\", \"Food or Water Supply\", \"Terrorists/Non-State Militia\", \"Other\", \"Maritime\", \"Abortion Related\"], \"marker\": {\"opacity\": 1, \"color\": \"#b3de69\", \"line\": {\"color\": \"white\"}, \"size\": [10.262, 11.269, 28.495, 13.894, 10.278, 13.282, 28.777, 12.576, 10.279, 31.814, 10.839, 10.451, 30.879, 44.965, 13.835, 10.924, 12.475, 10.4, 16.162, 13.746, 15.039, 11.611]}, \"mode\": \"markers+text\", \"hoverinfo\": \"text\", \"y\": [46, 3028, 46043, 9101, 210, 9075, 37337, 1481, 755, 55974, 779, 2849, 55100, 132885, 21560, 492, 6481, 1205, 38632, 2968, 1027, 5060], \"x\": [10, 3385, 19431, 3355, 272, 2477, 22381, 1290, 1003, 79552, 862, 1949, 43494, 112092, 11365, 159, 7091, 675, 12425, 3290, 1429, 3301], \"type\": \"scatter\"}], {\"yaxis\": {\"title\": \"Killed\", \"showgrid\": true, \"gridcolor\": \"lightgrey\", \"zeroline\": false, \"tickcolor\": \"white\", \"nticks\": 4, \"type\": \"log\", \"autotick\": true}, \"paper_bgcolor\": \"white\", \"plot_bgcolor\": \"white\", \"title\": \"Terrorist Attacks by Target\", \"titlefont\": {\"size\": 16}, \"xaxis\": {\"title\": \"Wounded\", \"showgrid\": true, \"gridcolor\": \"lightgrey\", \"zeroline\": false, \"tickcolor\": \"white\", \"nticks\": 4, \"type\": \"log\", \"autotick\": true}, \"font\": {\"color\": \"black\", \"size\": 12}}, {\"linkText\": \"Export to plot.ly\", \"showLink\": true})});</script>"
      ],
      "text/vnd.plotly.v1+html": [
       "<div id=\"58b0eeca-3804-4618-971c-3549f942b73a\" style=\"height: 525px; width: 100%;\" class=\"plotly-graph-div\"></div><script type=\"text/javascript\">require([\"plotly\"], function(Plotly) { window.PLOTLYENV=window.PLOTLYENV || {};window.PLOTLYENV.BASE_URL=\"https://plot.ly\";Plotly.newPlot(\"58b0eeca-3804-4618-971c-3549f942b73a\", [{\"textposition\": \"top\", \"textfont\": {\"size\": 10}, \"text\": [\"Private Citizens & Property\", \"Government (Diplomatic)\", \"Journalists & Media\", \"Police\", \"Utilities\", \"Military\", \"Government (General)\", \"Airports & Aircraft\", \"Business\", \"Educational Institution\", \"Violent Political Party\", \"Religious Figures/Institutions\", \"Unknown\", \"Transportation\", \"Tourists\", \"NGO\", \"Telecommunication\", \"Food or Water Supply\", \"Terrorists/Non-State Militia\", \"Other\", \"Maritime\", \"Abortion Related\"], \"marker\": {\"opacity\": 1, \"color\": \"#b3de69\", \"line\": {\"color\": \"white\"}, \"size\": [10.262, 11.269, 28.495, 13.894, 10.278, 13.282, 28.777, 12.576, 10.279, 31.814, 10.839, 10.451, 30.879, 44.965, 13.835, 10.924, 12.475, 10.4, 16.162, 13.746, 15.039, 11.611]}, \"mode\": \"markers+text\", \"hoverinfo\": \"text\", \"y\": [46, 3028, 46043, 9101, 210, 9075, 37337, 1481, 755, 55974, 779, 2849, 55100, 132885, 21560, 492, 6481, 1205, 38632, 2968, 1027, 5060], \"x\": [10, 3385, 19431, 3355, 272, 2477, 22381, 1290, 1003, 79552, 862, 1949, 43494, 112092, 11365, 159, 7091, 675, 12425, 3290, 1429, 3301], \"type\": \"scatter\"}], {\"yaxis\": {\"title\": \"Killed\", \"showgrid\": true, \"gridcolor\": \"lightgrey\", \"zeroline\": false, \"tickcolor\": \"white\", \"nticks\": 4, \"type\": \"log\", \"autotick\": true}, \"paper_bgcolor\": \"white\", \"plot_bgcolor\": \"white\", \"title\": \"Terrorist Attacks by Target\", \"titlefont\": {\"size\": 16}, \"xaxis\": {\"title\": \"Wounded\", \"showgrid\": true, \"gridcolor\": \"lightgrey\", \"zeroline\": false, \"tickcolor\": \"white\", \"nticks\": 4, \"type\": \"log\", \"autotick\": true}, \"font\": {\"color\": \"black\", \"size\": 12}}, {\"linkText\": \"Export to plot.ly\", \"showLink\": true})});</script>"
      ]
     },
     "metadata": {},
     "output_type": "display_data"
    }
   ],
   "source": [
    "scatterplot('targettype', 'Terrorist Attacks by Target', 'Wounded', 'Killed', color='orange')"
   ]
  },
  {
   "cell_type": "markdown",
   "metadata": {},
   "source": [
    "Less surprising is the vulnerability of tourists, private citizens and transportation towards those types of attacks. Police officers feel the most secure though (even more than military)."
   ]
  },
  {
   "cell_type": "markdown",
   "metadata": {},
   "source": [
    "## Geodata"
   ]
  },
  {
   "cell_type": "markdown",
   "metadata": {},
   "source": [
    "### Choropleth"
   ]
  },
  {
   "cell_type": "markdown",
   "metadata": {},
   "source": [
    "Because we have the coordinates of each attack, we can easily draw them on a map. For this, we either use a choropleth to highlight those countries hardest hit by terrorism, or we use a scatter plot to highlight attacks in response to their attributes (e.g., the number of fatalities and injuries)."
   ]
  },
  {
   "cell_type": "code",
   "execution_count": 21,
   "metadata": {
    "collapsed": false,
    "scrolled": false
   },
   "outputs": [
    {
     "data": {
      "application/vnd.plotly.v1+json": {
       "data": [
        {
         "autocolorscale": false,
         "colorscale": [
          [
           0,
           "#d9d9d9"
          ],
          [
           1,
           "#80b1d3"
          ]
         ],
         "locations": [
          "ARE",
          "BHR",
          "DZA",
          "EGY",
          "ESH",
          "IRN",
          "IRQ",
          "ISR",
          "JOR",
          "KWT",
          "LBN",
          "LBY",
          "MAR",
          "PSE",
          "QAT",
          "SAU",
          "SYR",
          "TUN",
          "TUR",
          "YEM"
         ],
         "marker": {
          "line": {
           "color": "white"
          }
         },
         "reversescale": false,
         "showscale": false,
         "type": "choropleth",
         "z": [
          20,
          175,
          2588,
          1772,
          3,
          640,
          18635,
          2033,
          86,
          60,
          2268,
          1621,
          32,
          1978,
          6,
          187,
          1444,
          85,
          3395,
          2545
         ]
        }
       ],
       "layout": {
        "autosize": false,
        "font": {
         "color": "black"
        },
        "geo": {
         "bgcolor": "white",
         "coastlinecolor": "white",
         "countrycolor": "white",
         "landcolor": "#d9d9d9",
         "lataxis": {
          "range": [
           12.714722,
           48.317287
          ]
         },
         "lonaxis": {
          "range": [
           -13.203332999999999,
           91.87119100000001
          ]
         },
         "projection": {
          "type": "conic conformal"
         },
         "scope": "world",
         "showcoastlines": true,
         "showcountries": true,
         "showframe": false,
         "showland": true
        },
        "height": 700,
        "margin": {
         "l": 50,
         "r": 50
        },
        "paper_bgcolor": "white",
        "plot_bgcolor": "white",
        "title": "Terrorist Attacks across Middle East & North Africa (1970-2015)",
        "titlefont": {
         "size": 16
        },
        "width": 1000
       }
      },
      "text/html": [
       "<div id=\"0c417d62-e9c5-4f7e-88c9-b32e813a3e4a\" style=\"height: 700px; width: 1000px;\" class=\"plotly-graph-div\"></div><script type=\"text/javascript\">require([\"plotly\"], function(Plotly) { window.PLOTLYENV=window.PLOTLYENV || {};window.PLOTLYENV.BASE_URL=\"https://plot.ly\";Plotly.newPlot(\"0c417d62-e9c5-4f7e-88c9-b32e813a3e4a\", [{\"autocolorscale\": false, \"colorscale\": [[0, \"#d9d9d9\"], [1, \"#80b1d3\"]], \"locations\": [\"ARE\", \"BHR\", \"DZA\", \"EGY\", \"ESH\", \"IRN\", \"IRQ\", \"ISR\", \"JOR\", \"KWT\", \"LBN\", \"LBY\", \"MAR\", \"PSE\", \"QAT\", \"SAU\", \"SYR\", \"TUN\", \"TUR\", \"YEM\"], \"reversescale\": false, \"showscale\": false, \"marker\": {\"line\": {\"color\": \"white\"}}, \"z\": [20, 175, 2588, 1772, 3, 640, 18635, 2033, 86, 60, 2268, 1621, 32, 1978, 6, 187, 1444, 85, 3395, 2545], \"type\": \"choropleth\"}], {\"autosize\": false, \"title\": \"Terrorist Attacks across Middle East & North Africa (1970-2015)\", \"paper_bgcolor\": \"white\", \"geo\": {\"showland\": true, \"lonaxis\": {\"range\": [-13.203332999999999, 91.87119100000001]}, \"projection\": {\"type\": \"conic conformal\"}, \"showframe\": false, \"lataxis\": {\"range\": [12.714722, 48.317287]}, \"bgcolor\": \"white\", \"landcolor\": \"#d9d9d9\", \"countrycolor\": \"white\", \"showcoastlines\": true, \"coastlinecolor\": \"white\", \"scope\": \"world\", \"showcountries\": true}, \"plot_bgcolor\": \"white\", \"height\": 700, \"width\": 1000, \"titlefont\": {\"size\": 16}, \"font\": {\"color\": \"black\"}, \"margin\": {\"r\": 50, \"l\": 50}}, {\"linkText\": \"Export to plot.ly\", \"showLink\": true})});</script>"
      ],
      "text/vnd.plotly.v1+html": [
       "<div id=\"0c417d62-e9c5-4f7e-88c9-b32e813a3e4a\" style=\"height: 700px; width: 1000px;\" class=\"plotly-graph-div\"></div><script type=\"text/javascript\">require([\"plotly\"], function(Plotly) { window.PLOTLYENV=window.PLOTLYENV || {};window.PLOTLYENV.BASE_URL=\"https://plot.ly\";Plotly.newPlot(\"0c417d62-e9c5-4f7e-88c9-b32e813a3e4a\", [{\"autocolorscale\": false, \"colorscale\": [[0, \"#d9d9d9\"], [1, \"#80b1d3\"]], \"locations\": [\"ARE\", \"BHR\", \"DZA\", \"EGY\", \"ESH\", \"IRN\", \"IRQ\", \"ISR\", \"JOR\", \"KWT\", \"LBN\", \"LBY\", \"MAR\", \"PSE\", \"QAT\", \"SAU\", \"SYR\", \"TUN\", \"TUR\", \"YEM\"], \"reversescale\": false, \"showscale\": false, \"marker\": {\"line\": {\"color\": \"white\"}}, \"z\": [20, 175, 2588, 1772, 3, 640, 18635, 2033, 86, 60, 2268, 1621, 32, 1978, 6, 187, 1444, 85, 3395, 2545], \"type\": \"choropleth\"}], {\"autosize\": false, \"title\": \"Terrorist Attacks across Middle East & North Africa (1970-2015)\", \"paper_bgcolor\": \"white\", \"geo\": {\"showland\": true, \"lonaxis\": {\"range\": [-13.203332999999999, 91.87119100000001]}, \"projection\": {\"type\": \"conic conformal\"}, \"showframe\": false, \"lataxis\": {\"range\": [12.714722, 48.317287]}, \"bgcolor\": \"white\", \"landcolor\": \"#d9d9d9\", \"countrycolor\": \"white\", \"showcoastlines\": true, \"coastlinecolor\": \"white\", \"scope\": \"world\", \"showcountries\": true}, \"plot_bgcolor\": \"white\", \"height\": 700, \"width\": 1000, \"titlefont\": {\"size\": 16}, \"font\": {\"color\": \"black\"}, \"margin\": {\"r\": 50, \"l\": 50}}, {\"linkText\": \"Export to plot.ly\", \"showLink\": true})});</script>"
      ]
     },
     "metadata": {},
     "output_type": "display_data"
    }
   ],
   "source": [
    "region = 'Middle East & North Africa'\n",
    "region_df = df.loc[df.region.isin([region])]\n",
    "country_codes, nattacks = zip(*region_df.groupby('countrycode').size().reset_index(name='size').values.tolist())\n",
    "\n",
    "data = [\n",
    "    go.Choropleth(\n",
    "        locations=country_codes,\n",
    "        z=nattacks,\n",
    "        colorscale=[[0, colors[8]], [1, colors[4]]],\n",
    "        autocolorscale=False,\n",
    "        reversescale=False,\n",
    "        showscale=False,\n",
    "        marker=dict(\n",
    "            line=dict(\n",
    "                color=bgcolor\n",
    "            )\n",
    "        )\n",
    "    )\n",
    "]\n",
    "\n",
    "layout = go.Layout(\n",
    "    title='Terrorist Attacks across %s (1970-2015)'%region,\n",
    "    titlefont=dict(\n",
    "        size=titlesize\n",
    "    ),\n",
    "    geo=dict(\n",
    "        scope='world',\n",
    "        showframe=False,\n",
    "        showcoastlines=True,\n",
    "        showland=True,\n",
    "        bgcolor=bgcolor,\n",
    "        landcolor=colors[8],\n",
    "        showcountries=True,\n",
    "        countrycolor=bgcolor,\n",
    "        coastlinecolor=bgcolor,\n",
    "        projection=dict(\n",
    "            type='conic conformal',\n",
    "        ),\n",
    "        lonaxis=dict(range=[min(region_df.lon), max(region_df.lon)]),\n",
    "        lataxis=dict(range=[min(region_df.lat), max(region_df.lat)])\n",
    "    ),\n",
    "    autosize=False,\n",
    "    width=1000,\n",
    "    height=700,\n",
    "    plot_bgcolor=bgcolor,\n",
    "    paper_bgcolor=bgcolor,\n",
    "    font=dict(\n",
    "        color=fontcolor\n",
    "    ),\n",
    "    margin=dict(\n",
    "        l=50,\n",
    "        r=50\n",
    "    )\n",
    ")\n",
    "\n",
    "fig = go.Figure(data=data, layout=layout)\n",
    "iplot(fig)"
   ]
  },
  {
   "cell_type": "code",
   "execution_count": 22,
   "metadata": {
    "collapsed": false
   },
   "outputs": [
    {
     "data": {
      "application/vnd.plotly.v1+json": {
       "data": [
        {
         "autocolorscale": false,
         "colorscale": [
          [
           0,
           "#8dd3c6"
          ],
          [
           0.0625,
           "#cff8a4"
          ],
          [
           0.125,
           "#f0b5b3"
          ],
          [
           0.1875,
           "#c7bdcf"
          ],
          [
           0.25,
           "#f87875"
          ],
          [
           0.3125,
           "#ffff30"
          ],
          [
           0.375,
           "#88b0be"
          ],
          [
           0.4375,
           "#969e96"
          ],
          [
           0.5,
           "#ff46ff"
          ],
          [
           0.5625,
           "#35a7ff"
          ],
          [
           0.625,
           "#83a896"
          ],
          [
           0.6875,
           "#fffff9"
          ],
          [
           0.75,
           "#e2fbff"
          ],
          [
           0.8125,
           "#ffd780"
          ],
          [
           0.875,
           "#47ffd3"
          ],
          [
           1,
           "#0a4f03"
          ]
         ],
         "locations": [
          "ARE",
          "BHR",
          "DZA",
          "EGY",
          "ESH",
          "IRN",
          "IRQ",
          "ISR",
          "JOR",
          "KWT",
          "LBN",
          "LBY",
          "MAR",
          "PSE",
          "QAT",
          "SAU",
          "SYR",
          "TUN",
          "TUR",
          "YEM"
         ],
         "marker": {
          "line": {
           "color": "white"
          }
         },
         "reversescale": false,
         "showscale": false,
         "text": [
          "Unaffiliated Individual(s)",
          "Al-Ashtar Brigades",
          "Algerian Islamic Extremists",
          "Al-Gama'at al-Islamiyya (IG)",
          "Polisario Front",
          "Mujahedin-e Khalq (MEK)",
          "Islamic State of Iraq and the Levant (ISIL)",
          "Palestinians",
          "Popular Front for the Liberation of Palestine (PFLP)",
          "Hezbollah",
          "Hezbollah",
          "Tripoli Province of the Islamic State",
          "Al-Adl Wal Ihsane",
          "Palestinians",
          "Unaffiliated Individual(s)",
          "Huthi Extremists",
          "Islamic State of Iraq and the Levant (ISIL)",
          "Muslim Fundamentalists",
          "Kurdistan Workers' Party (PKK)",
          "Al-Qaida in the Arabian Peninsula (AQAP)"
         ],
         "type": "choropleth",
         "z": [
          8,
          9,
          10,
          11,
          15,
          6,
          7,
          13,
          0,
          14,
          14,
          3,
          12,
          13,
          8,
          2,
          7,
          1,
          5,
          4
         ]
        }
       ],
       "layout": {
        "autosize": false,
        "font": {
         "color": "black"
        },
        "geo": {
         "bgcolor": "white",
         "coastlinecolor": "white",
         "countrycolor": "white",
         "landcolor": "#d9d9d9",
         "lataxis": {
          "range": [
           12.714722,
           48.317287
          ]
         },
         "lonaxis": {
          "range": [
           -13.203332999999999,
           91.87119100000001
          ]
         },
         "projection": {
          "type": "conic conformal"
         },
         "scope": "world",
         "showcoastlines": true,
         "showcountries": true,
         "showframe": false,
         "showland": true
        },
        "height": 700,
        "margin": {
         "l": 50,
         "r": 50
        },
        "paper_bgcolor": "white",
        "plot_bgcolor": "white",
        "title": "Most Present Terrorist Groups across Middle East & North Africa (1970-2015)",
        "titlefont": {
         "size": 16
        },
        "width": 1000
       }
      },
      "text/html": [
       "<div id=\"81257c5d-3853-40d8-8423-531d25fdc040\" style=\"height: 700px; width: 1000px;\" class=\"plotly-graph-div\"></div><script type=\"text/javascript\">require([\"plotly\"], function(Plotly) { window.PLOTLYENV=window.PLOTLYENV || {};window.PLOTLYENV.BASE_URL=\"https://plot.ly\";Plotly.newPlot(\"81257c5d-3853-40d8-8423-531d25fdc040\", [{\"autocolorscale\": false, \"colorscale\": [[0.0, \"#8dd3c6\"], [0.0625, \"#cff8a4\"], [0.125, \"#f0b5b3\"], [0.1875, \"#c7bdcf\"], [0.25, \"#f87875\"], [0.3125, \"#ffff30\"], [0.375, \"#88b0be\"], [0.4375, \"#969e96\"], [0.5, \"#ff46ff\"], [0.5625, \"#35a7ff\"], [0.625, \"#83a896\"], [0.6875, \"#fffff9\"], [0.75, \"#e2fbff\"], [0.8125, \"#ffd780\"], [0.875, \"#47ffd3\"], [1.0, \"#0a4f03\"]], \"text\": [\"Unaffiliated Individual(s)\", \"Al-Ashtar Brigades\", \"Algerian Islamic Extremists\", \"Al-Gama'at al-Islamiyya (IG)\", \"Polisario Front\", \"Mujahedin-e Khalq (MEK)\", \"Islamic State of Iraq and the Levant (ISIL)\", \"Palestinians\", \"Popular Front for the Liberation of Palestine (PFLP)\", \"Hezbollah\", \"Hezbollah\", \"Tripoli Province of the Islamic State\", \"Al-Adl Wal Ihsane\", \"Palestinians\", \"Unaffiliated Individual(s)\", \"Huthi Extremists\", \"Islamic State of Iraq and the Levant (ISIL)\", \"Muslim Fundamentalists\", \"Kurdistan Workers' Party (PKK)\", \"Al-Qaida in the Arabian Peninsula (AQAP)\"], \"locations\": [\"ARE\", \"BHR\", \"DZA\", \"EGY\", \"ESH\", \"IRN\", \"IRQ\", \"ISR\", \"JOR\", \"KWT\", \"LBN\", \"LBY\", \"MAR\", \"PSE\", \"QAT\", \"SAU\", \"SYR\", \"TUN\", \"TUR\", \"YEM\"], \"reversescale\": false, \"showscale\": false, \"marker\": {\"line\": {\"color\": \"white\"}}, \"z\": [8, 9, 10, 11, 15, 6, 7, 13, 0, 14, 14, 3, 12, 13, 8, 2, 7, 1, 5, 4], \"type\": \"choropleth\"}], {\"autosize\": false, \"title\": \"Most Present Terrorist Groups across Middle East & North Africa (1970-2015)\", \"paper_bgcolor\": \"white\", \"geo\": {\"showland\": true, \"lonaxis\": {\"range\": [-13.203332999999999, 91.87119100000001]}, \"projection\": {\"type\": \"conic conformal\"}, \"showframe\": false, \"lataxis\": {\"range\": [12.714722, 48.317287]}, \"bgcolor\": \"white\", \"landcolor\": \"#d9d9d9\", \"countrycolor\": \"white\", \"showcoastlines\": true, \"coastlinecolor\": \"white\", \"scope\": \"world\", \"showcountries\": true}, \"plot_bgcolor\": \"white\", \"height\": 700, \"width\": 1000, \"titlefont\": {\"size\": 16}, \"font\": {\"color\": \"black\"}, \"margin\": {\"r\": 50, \"l\": 50}}, {\"linkText\": \"Export to plot.ly\", \"showLink\": true})});</script>"
      ],
      "text/vnd.plotly.v1+html": [
       "<div id=\"81257c5d-3853-40d8-8423-531d25fdc040\" style=\"height: 700px; width: 1000px;\" class=\"plotly-graph-div\"></div><script type=\"text/javascript\">require([\"plotly\"], function(Plotly) { window.PLOTLYENV=window.PLOTLYENV || {};window.PLOTLYENV.BASE_URL=\"https://plot.ly\";Plotly.newPlot(\"81257c5d-3853-40d8-8423-531d25fdc040\", [{\"autocolorscale\": false, \"colorscale\": [[0.0, \"#8dd3c6\"], [0.0625, \"#cff8a4\"], [0.125, \"#f0b5b3\"], [0.1875, \"#c7bdcf\"], [0.25, \"#f87875\"], [0.3125, \"#ffff30\"], [0.375, \"#88b0be\"], [0.4375, \"#969e96\"], [0.5, \"#ff46ff\"], [0.5625, \"#35a7ff\"], [0.625, \"#83a896\"], [0.6875, \"#fffff9\"], [0.75, \"#e2fbff\"], [0.8125, \"#ffd780\"], [0.875, \"#47ffd3\"], [1.0, \"#0a4f03\"]], \"text\": [\"Unaffiliated Individual(s)\", \"Al-Ashtar Brigades\", \"Algerian Islamic Extremists\", \"Al-Gama'at al-Islamiyya (IG)\", \"Polisario Front\", \"Mujahedin-e Khalq (MEK)\", \"Islamic State of Iraq and the Levant (ISIL)\", \"Palestinians\", \"Popular Front for the Liberation of Palestine (PFLP)\", \"Hezbollah\", \"Hezbollah\", \"Tripoli Province of the Islamic State\", \"Al-Adl Wal Ihsane\", \"Palestinians\", \"Unaffiliated Individual(s)\", \"Huthi Extremists\", \"Islamic State of Iraq and the Levant (ISIL)\", \"Muslim Fundamentalists\", \"Kurdistan Workers' Party (PKK)\", \"Al-Qaida in the Arabian Peninsula (AQAP)\"], \"locations\": [\"ARE\", \"BHR\", \"DZA\", \"EGY\", \"ESH\", \"IRN\", \"IRQ\", \"ISR\", \"JOR\", \"KWT\", \"LBN\", \"LBY\", \"MAR\", \"PSE\", \"QAT\", \"SAU\", \"SYR\", \"TUN\", \"TUR\", \"YEM\"], \"reversescale\": false, \"showscale\": false, \"marker\": {\"line\": {\"color\": \"white\"}}, \"z\": [8, 9, 10, 11, 15, 6, 7, 13, 0, 14, 14, 3, 12, 13, 8, 2, 7, 1, 5, 4], \"type\": \"choropleth\"}], {\"autosize\": false, \"title\": \"Most Present Terrorist Groups across Middle East & North Africa (1970-2015)\", \"paper_bgcolor\": \"white\", \"geo\": {\"showland\": true, \"lonaxis\": {\"range\": [-13.203332999999999, 91.87119100000001]}, \"projection\": {\"type\": \"conic conformal\"}, \"showframe\": false, \"lataxis\": {\"range\": [12.714722, 48.317287]}, \"bgcolor\": \"white\", \"landcolor\": \"#d9d9d9\", \"countrycolor\": \"white\", \"showcoastlines\": true, \"coastlinecolor\": \"white\", \"scope\": \"world\", \"showcountries\": true}, \"plot_bgcolor\": \"white\", \"height\": 700, \"width\": 1000, \"titlefont\": {\"size\": 16}, \"font\": {\"color\": \"black\"}, \"margin\": {\"r\": 50, \"l\": 50}}, {\"linkText\": \"Export to plot.ly\", \"showLink\": true})});</script>"
      ]
     },
     "metadata": {},
     "output_type": "display_data"
    }
   ],
   "source": [
    "# Group terrorist group names by country and count\n",
    "gname_by_country = region_df.gname[region_df.gname != 'Unknown'].groupby([region_df.countrycode, region_df.gname]).size().reset_index(name='count')\n",
    "# Return row indices of the groups with biggest counts\n",
    "rowidx = gname_by_country['count'].groupby(gname_by_country['countrycode']).idxmax().reset_index(name='rowidx')['rowidx'].values.tolist()\n",
    "# Extract columns separatelly\n",
    "countrycodes, gnames, counts = zip(*gname_by_country.loc[rowidx, :].values.tolist())\n",
    "\n",
    "# Setup color scale\n",
    "mapper = {\n",
    "    gname: i\n",
    "    for i, gname in enumerate(set(gnames))\n",
    "}\n",
    "scale = cl.scales['12']['qual']['Set3']\n",
    "def clamp(x): \n",
    "    return max(0, min(x, 255))\n",
    "colorscl = [\n",
    "    [i/len(mapper), '#%02x%02x%02x' % (clamp(rgb[0]), clamp(rgb[1]), clamp(rgb[2]))]\n",
    "    for i, rgb in enumerate(cl.to_numeric(cl.to_rgb(cl.interp(scale, len(mapper)))))\n",
    "]\n",
    "# Colorscale must begin with 0 and end with 1 !\n",
    "colorscl[-1] = [1.0, colorscl[-1][1]]\n",
    "\n",
    "data = [\n",
    "    go.Choropleth(\n",
    "        locations=country_codes,\n",
    "        z=[mapper[gname] for gname in gnames],\n",
    "        colorscale=colorscl,\n",
    "        autocolorscale=False,\n",
    "        reversescale=False,\n",
    "        showscale=False,\n",
    "        marker=dict(\n",
    "            line=dict(\n",
    "                color=bgcolor\n",
    "            )\n",
    "        ),\n",
    "        text=gnames\n",
    "    )\n",
    "]\n",
    "\n",
    "layout = go.Layout(\n",
    "    title='Most Present Terrorist Groups across %s (1970-2015)'%region,\n",
    "    titlefont=dict(\n",
    "        size=titlesize\n",
    "    ),\n",
    "    geo=dict(\n",
    "        scope='world',\n",
    "        showframe=False,\n",
    "        showcoastlines=True,\n",
    "        showland=True,\n",
    "        bgcolor=bgcolor,\n",
    "        landcolor=colors[8],\n",
    "        showcountries=True,\n",
    "        countrycolor=bgcolor,\n",
    "        coastlinecolor=bgcolor,\n",
    "        projection=dict(\n",
    "            type='conic conformal',\n",
    "        ),\n",
    "        lonaxis=dict(range=[min(region_df.lon), max(region_df.lon)]),\n",
    "        lataxis=dict(range=[min(region_df.lat), max(region_df.lat)])\n",
    "    ),\n",
    "    autosize=False,\n",
    "    width=1000,\n",
    "    height=700,\n",
    "    plot_bgcolor=bgcolor,\n",
    "    paper_bgcolor=bgcolor,\n",
    "    font=dict(\n",
    "        color=fontcolor\n",
    "    ),\n",
    "    margin=dict(\n",
    "        l=50,\n",
    "        r=50\n",
    "    )\n",
    ")\n",
    "\n",
    "fig = go.Figure(data=data, layout=layout)\n",
    "iplot(fig)"
   ]
  },
  {
   "cell_type": "markdown",
   "metadata": {},
   "source": [
    "The map above colors each country by the predominant terrorist group. "
   ]
  }
 ],
 "metadata": {
  "anaconda-cloud": {},
  "hide_input": false,
  "kernelspec": {
   "display_name": "Python [default]",
   "language": "python",
   "name": "python2"
  },
  "language_info": {
   "codemirror_mode": {
    "name": "ipython",
    "version": 2
   },
   "file_extension": ".py",
   "mimetype": "text/x-python",
   "name": "python",
   "nbconvert_exporter": "python",
   "pygments_lexer": "ipython2",
   "version": "2.7.13"
  }
 },
 "nbformat": 4,
 "nbformat_minor": 2
}
